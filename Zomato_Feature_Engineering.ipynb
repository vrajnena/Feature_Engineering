{
 "cells": [
  {
   "cell_type": "markdown",
   "metadata": {},
   "source": [
    "**[Dataset link](https://github.com/krishnaik06/5-Days-Live-EDA-and-Feature-Engineering/blob/main/Zomatodataset.zip)**"
   ]
  },
  {
   "cell_type": "code",
   "execution_count": 2,
   "metadata": {},
   "outputs": [
    {
     "name": "stderr",
     "output_type": "stream",
     "text": [
      "UsageError: unrecognized arguments: # it keeps plots and image showed in notebook not in different window\n"
     ]
    }
   ],
   "source": [
    "import pandas as pd\n",
    "import numpy as np\n",
    "import matplotlib.pyplot as plt\n",
    "import seaborn as sns\n",
    "%matplotlib inline   # it keeps plots and image showed in notebook not in different window \n"
   ]
  },
  {
   "cell_type": "code",
   "execution_count": 3,
   "metadata": {},
   "outputs": [],
   "source": [
    "data = pd.read_csv('F:\\GIT REPO\\Feature_Engineering\\Dataset\\zomato.csv',encoding='latin-1')\n",
    "# encoding can difffer according to the dataset "
   ]
  },
  {
   "cell_type": "code",
   "execution_count": 4,
   "metadata": {},
   "outputs": [
    {
     "data": {
      "text/html": [
       "<div>\n",
       "<style scoped>\n",
       "    .dataframe tbody tr th:only-of-type {\n",
       "        vertical-align: middle;\n",
       "    }\n",
       "\n",
       "    .dataframe tbody tr th {\n",
       "        vertical-align: top;\n",
       "    }\n",
       "\n",
       "    .dataframe thead th {\n",
       "        text-align: right;\n",
       "    }\n",
       "</style>\n",
       "<table border=\"1\" class=\"dataframe\">\n",
       "  <thead>\n",
       "    <tr style=\"text-align: right;\">\n",
       "      <th></th>\n",
       "      <th>Restaurant ID</th>\n",
       "      <th>Restaurant Name</th>\n",
       "      <th>Country Code</th>\n",
       "      <th>City</th>\n",
       "      <th>Address</th>\n",
       "      <th>Locality</th>\n",
       "      <th>Locality Verbose</th>\n",
       "      <th>Longitude</th>\n",
       "      <th>Latitude</th>\n",
       "      <th>Cuisines</th>\n",
       "      <th>...</th>\n",
       "      <th>Currency</th>\n",
       "      <th>Has Table booking</th>\n",
       "      <th>Has Online delivery</th>\n",
       "      <th>Is delivering now</th>\n",
       "      <th>Switch to order menu</th>\n",
       "      <th>Price range</th>\n",
       "      <th>Aggregate rating</th>\n",
       "      <th>Rating color</th>\n",
       "      <th>Rating text</th>\n",
       "      <th>Votes</th>\n",
       "    </tr>\n",
       "  </thead>\n",
       "  <tbody>\n",
       "    <tr>\n",
       "      <th>0</th>\n",
       "      <td>6317637</td>\n",
       "      <td>Le Petit Souffle</td>\n",
       "      <td>162</td>\n",
       "      <td>Makati City</td>\n",
       "      <td>Third Floor, Century City Mall, Kalayaan Avenu...</td>\n",
       "      <td>Century City Mall, Poblacion, Makati City</td>\n",
       "      <td>Century City Mall, Poblacion, Makati City, Mak...</td>\n",
       "      <td>121.027535</td>\n",
       "      <td>14.565443</td>\n",
       "      <td>French, Japanese, Desserts</td>\n",
       "      <td>...</td>\n",
       "      <td>Botswana Pula(P)</td>\n",
       "      <td>Yes</td>\n",
       "      <td>No</td>\n",
       "      <td>No</td>\n",
       "      <td>No</td>\n",
       "      <td>3</td>\n",
       "      <td>4.8</td>\n",
       "      <td>Dark Green</td>\n",
       "      <td>Excellent</td>\n",
       "      <td>314</td>\n",
       "    </tr>\n",
       "    <tr>\n",
       "      <th>1</th>\n",
       "      <td>6304287</td>\n",
       "      <td>Izakaya Kikufuji</td>\n",
       "      <td>162</td>\n",
       "      <td>Makati City</td>\n",
       "      <td>Little Tokyo, 2277 Chino Roces Avenue, Legaspi...</td>\n",
       "      <td>Little Tokyo, Legaspi Village, Makati City</td>\n",
       "      <td>Little Tokyo, Legaspi Village, Makati City, Ma...</td>\n",
       "      <td>121.014101</td>\n",
       "      <td>14.553708</td>\n",
       "      <td>Japanese</td>\n",
       "      <td>...</td>\n",
       "      <td>Botswana Pula(P)</td>\n",
       "      <td>Yes</td>\n",
       "      <td>No</td>\n",
       "      <td>No</td>\n",
       "      <td>No</td>\n",
       "      <td>3</td>\n",
       "      <td>4.5</td>\n",
       "      <td>Dark Green</td>\n",
       "      <td>Excellent</td>\n",
       "      <td>591</td>\n",
       "    </tr>\n",
       "    <tr>\n",
       "      <th>2</th>\n",
       "      <td>6300002</td>\n",
       "      <td>Heat - Edsa Shangri-La</td>\n",
       "      <td>162</td>\n",
       "      <td>Mandaluyong City</td>\n",
       "      <td>Edsa Shangri-La, 1 Garden Way, Ortigas, Mandal...</td>\n",
       "      <td>Edsa Shangri-La, Ortigas, Mandaluyong City</td>\n",
       "      <td>Edsa Shangri-La, Ortigas, Mandaluyong City, Ma...</td>\n",
       "      <td>121.056831</td>\n",
       "      <td>14.581404</td>\n",
       "      <td>Seafood, Asian, Filipino, Indian</td>\n",
       "      <td>...</td>\n",
       "      <td>Botswana Pula(P)</td>\n",
       "      <td>Yes</td>\n",
       "      <td>No</td>\n",
       "      <td>No</td>\n",
       "      <td>No</td>\n",
       "      <td>4</td>\n",
       "      <td>4.4</td>\n",
       "      <td>Green</td>\n",
       "      <td>Very Good</td>\n",
       "      <td>270</td>\n",
       "    </tr>\n",
       "    <tr>\n",
       "      <th>3</th>\n",
       "      <td>6318506</td>\n",
       "      <td>Ooma</td>\n",
       "      <td>162</td>\n",
       "      <td>Mandaluyong City</td>\n",
       "      <td>Third Floor, Mega Fashion Hall, SM Megamall, O...</td>\n",
       "      <td>SM Megamall, Ortigas, Mandaluyong City</td>\n",
       "      <td>SM Megamall, Ortigas, Mandaluyong City, Mandal...</td>\n",
       "      <td>121.056475</td>\n",
       "      <td>14.585318</td>\n",
       "      <td>Japanese, Sushi</td>\n",
       "      <td>...</td>\n",
       "      <td>Botswana Pula(P)</td>\n",
       "      <td>No</td>\n",
       "      <td>No</td>\n",
       "      <td>No</td>\n",
       "      <td>No</td>\n",
       "      <td>4</td>\n",
       "      <td>4.9</td>\n",
       "      <td>Dark Green</td>\n",
       "      <td>Excellent</td>\n",
       "      <td>365</td>\n",
       "    </tr>\n",
       "    <tr>\n",
       "      <th>4</th>\n",
       "      <td>6314302</td>\n",
       "      <td>Sambo Kojin</td>\n",
       "      <td>162</td>\n",
       "      <td>Mandaluyong City</td>\n",
       "      <td>Third Floor, Mega Atrium, SM Megamall, Ortigas...</td>\n",
       "      <td>SM Megamall, Ortigas, Mandaluyong City</td>\n",
       "      <td>SM Megamall, Ortigas, Mandaluyong City, Mandal...</td>\n",
       "      <td>121.057508</td>\n",
       "      <td>14.584450</td>\n",
       "      <td>Japanese, Korean</td>\n",
       "      <td>...</td>\n",
       "      <td>Botswana Pula(P)</td>\n",
       "      <td>Yes</td>\n",
       "      <td>No</td>\n",
       "      <td>No</td>\n",
       "      <td>No</td>\n",
       "      <td>4</td>\n",
       "      <td>4.8</td>\n",
       "      <td>Dark Green</td>\n",
       "      <td>Excellent</td>\n",
       "      <td>229</td>\n",
       "    </tr>\n",
       "  </tbody>\n",
       "</table>\n",
       "<p>5 rows × 21 columns</p>\n",
       "</div>"
      ],
      "text/plain": [
       "   Restaurant ID         Restaurant Name  Country Code              City  \\\n",
       "0        6317637        Le Petit Souffle           162       Makati City   \n",
       "1        6304287        Izakaya Kikufuji           162       Makati City   \n",
       "2        6300002  Heat - Edsa Shangri-La           162  Mandaluyong City   \n",
       "3        6318506                    Ooma           162  Mandaluyong City   \n",
       "4        6314302             Sambo Kojin           162  Mandaluyong City   \n",
       "\n",
       "                                             Address  \\\n",
       "0  Third Floor, Century City Mall, Kalayaan Avenu...   \n",
       "1  Little Tokyo, 2277 Chino Roces Avenue, Legaspi...   \n",
       "2  Edsa Shangri-La, 1 Garden Way, Ortigas, Mandal...   \n",
       "3  Third Floor, Mega Fashion Hall, SM Megamall, O...   \n",
       "4  Third Floor, Mega Atrium, SM Megamall, Ortigas...   \n",
       "\n",
       "                                     Locality  \\\n",
       "0   Century City Mall, Poblacion, Makati City   \n",
       "1  Little Tokyo, Legaspi Village, Makati City   \n",
       "2  Edsa Shangri-La, Ortigas, Mandaluyong City   \n",
       "3      SM Megamall, Ortigas, Mandaluyong City   \n",
       "4      SM Megamall, Ortigas, Mandaluyong City   \n",
       "\n",
       "                                    Locality Verbose   Longitude   Latitude  \\\n",
       "0  Century City Mall, Poblacion, Makati City, Mak...  121.027535  14.565443   \n",
       "1  Little Tokyo, Legaspi Village, Makati City, Ma...  121.014101  14.553708   \n",
       "2  Edsa Shangri-La, Ortigas, Mandaluyong City, Ma...  121.056831  14.581404   \n",
       "3  SM Megamall, Ortigas, Mandaluyong City, Mandal...  121.056475  14.585318   \n",
       "4  SM Megamall, Ortigas, Mandaluyong City, Mandal...  121.057508  14.584450   \n",
       "\n",
       "                           Cuisines  ...          Currency Has Table booking  \\\n",
       "0        French, Japanese, Desserts  ...  Botswana Pula(P)               Yes   \n",
       "1                          Japanese  ...  Botswana Pula(P)               Yes   \n",
       "2  Seafood, Asian, Filipino, Indian  ...  Botswana Pula(P)               Yes   \n",
       "3                   Japanese, Sushi  ...  Botswana Pula(P)                No   \n",
       "4                  Japanese, Korean  ...  Botswana Pula(P)               Yes   \n",
       "\n",
       "  Has Online delivery Is delivering now Switch to order menu Price range  \\\n",
       "0                  No                No                   No           3   \n",
       "1                  No                No                   No           3   \n",
       "2                  No                No                   No           4   \n",
       "3                  No                No                   No           4   \n",
       "4                  No                No                   No           4   \n",
       "\n",
       "   Aggregate rating  Rating color Rating text Votes  \n",
       "0               4.8    Dark Green   Excellent   314  \n",
       "1               4.5    Dark Green   Excellent   591  \n",
       "2               4.4         Green   Very Good   270  \n",
       "3               4.9    Dark Green   Excellent   365  \n",
       "4               4.8    Dark Green   Excellent   229  \n",
       "\n",
       "[5 rows x 21 columns]"
      ]
     },
     "execution_count": 4,
     "metadata": {},
     "output_type": "execute_result"
    }
   ],
   "source": [
    "data.head()"
   ]
  },
  {
   "cell_type": "code",
   "execution_count": 5,
   "metadata": {},
   "outputs": [
    {
     "data": {
      "text/plain": [
       "Index(['Restaurant ID', 'Restaurant Name', 'Country Code', 'City', 'Address',\n",
       "       'Locality', 'Locality Verbose', 'Longitude', 'Latitude', 'Cuisines',\n",
       "       'Average Cost for two', 'Currency', 'Has Table booking',\n",
       "       'Has Online delivery', 'Is delivering now', 'Switch to order menu',\n",
       "       'Price range', 'Aggregate rating', 'Rating color', 'Rating text',\n",
       "       'Votes'],\n",
       "      dtype='object')"
      ]
     },
     "execution_count": 5,
     "metadata": {},
     "output_type": "execute_result"
    }
   ],
   "source": [
    "data.columns"
   ]
  },
  {
   "cell_type": "code",
   "execution_count": 6,
   "metadata": {},
   "outputs": [
    {
     "name": "stdout",
     "output_type": "stream",
     "text": [
      "<class 'pandas.core.frame.DataFrame'>\n",
      "RangeIndex: 9551 entries, 0 to 9550\n",
      "Data columns (total 21 columns):\n",
      " #   Column                Non-Null Count  Dtype  \n",
      "---  ------                --------------  -----  \n",
      " 0   Restaurant ID         9551 non-null   int64  \n",
      " 1   Restaurant Name       9551 non-null   object \n",
      " 2   Country Code          9551 non-null   int64  \n",
      " 3   City                  9551 non-null   object \n",
      " 4   Address               9551 non-null   object \n",
      " 5   Locality              9551 non-null   object \n",
      " 6   Locality Verbose      9551 non-null   object \n",
      " 7   Longitude             9551 non-null   float64\n",
      " 8   Latitude              9551 non-null   float64\n",
      " 9   Cuisines              9542 non-null   object \n",
      " 10  Average Cost for two  9551 non-null   int64  \n",
      " 11  Currency              9551 non-null   object \n",
      " 12  Has Table booking     9551 non-null   object \n",
      " 13  Has Online delivery   9551 non-null   object \n",
      " 14  Is delivering now     9551 non-null   object \n",
      " 15  Switch to order menu  9551 non-null   object \n",
      " 16  Price range           9551 non-null   int64  \n",
      " 17  Aggregate rating      9551 non-null   float64\n",
      " 18  Rating color          9551 non-null   object \n",
      " 19  Rating text           9551 non-null   object \n",
      " 20  Votes                 9551 non-null   int64  \n",
      "dtypes: float64(3), int64(5), object(13)\n",
      "memory usage: 1.5+ MB\n"
     ]
    }
   ],
   "source": [
    "data.info()\n",
    "# whenever there is object in Dtype consider it has catergorical,integer or it may be text data"
   ]
  },
  {
   "cell_type": "code",
   "execution_count": 7,
   "metadata": {},
   "outputs": [
    {
     "data": {
      "text/html": [
       "<div>\n",
       "<style scoped>\n",
       "    .dataframe tbody tr th:only-of-type {\n",
       "        vertical-align: middle;\n",
       "    }\n",
       "\n",
       "    .dataframe tbody tr th {\n",
       "        vertical-align: top;\n",
       "    }\n",
       "\n",
       "    .dataframe thead th {\n",
       "        text-align: right;\n",
       "    }\n",
       "</style>\n",
       "<table border=\"1\" class=\"dataframe\">\n",
       "  <thead>\n",
       "    <tr style=\"text-align: right;\">\n",
       "      <th></th>\n",
       "      <th>Restaurant ID</th>\n",
       "      <th>Country Code</th>\n",
       "      <th>Longitude</th>\n",
       "      <th>Latitude</th>\n",
       "      <th>Average Cost for two</th>\n",
       "      <th>Price range</th>\n",
       "      <th>Aggregate rating</th>\n",
       "      <th>Votes</th>\n",
       "    </tr>\n",
       "  </thead>\n",
       "  <tbody>\n",
       "    <tr>\n",
       "      <th>count</th>\n",
       "      <td>9.551000e+03</td>\n",
       "      <td>9551.000000</td>\n",
       "      <td>9551.000000</td>\n",
       "      <td>9551.000000</td>\n",
       "      <td>9551.000000</td>\n",
       "      <td>9551.000000</td>\n",
       "      <td>9551.000000</td>\n",
       "      <td>9551.000000</td>\n",
       "    </tr>\n",
       "    <tr>\n",
       "      <th>mean</th>\n",
       "      <td>9.051128e+06</td>\n",
       "      <td>18.365616</td>\n",
       "      <td>64.126574</td>\n",
       "      <td>25.854381</td>\n",
       "      <td>1199.210763</td>\n",
       "      <td>1.804837</td>\n",
       "      <td>2.666370</td>\n",
       "      <td>156.909748</td>\n",
       "    </tr>\n",
       "    <tr>\n",
       "      <th>std</th>\n",
       "      <td>8.791521e+06</td>\n",
       "      <td>56.750546</td>\n",
       "      <td>41.467058</td>\n",
       "      <td>11.007935</td>\n",
       "      <td>16121.183073</td>\n",
       "      <td>0.905609</td>\n",
       "      <td>1.516378</td>\n",
       "      <td>430.169145</td>\n",
       "    </tr>\n",
       "    <tr>\n",
       "      <th>min</th>\n",
       "      <td>5.300000e+01</td>\n",
       "      <td>1.000000</td>\n",
       "      <td>-157.948486</td>\n",
       "      <td>-41.330428</td>\n",
       "      <td>0.000000</td>\n",
       "      <td>1.000000</td>\n",
       "      <td>0.000000</td>\n",
       "      <td>0.000000</td>\n",
       "    </tr>\n",
       "    <tr>\n",
       "      <th>25%</th>\n",
       "      <td>3.019625e+05</td>\n",
       "      <td>1.000000</td>\n",
       "      <td>77.081343</td>\n",
       "      <td>28.478713</td>\n",
       "      <td>250.000000</td>\n",
       "      <td>1.000000</td>\n",
       "      <td>2.500000</td>\n",
       "      <td>5.000000</td>\n",
       "    </tr>\n",
       "    <tr>\n",
       "      <th>50%</th>\n",
       "      <td>6.004089e+06</td>\n",
       "      <td>1.000000</td>\n",
       "      <td>77.191964</td>\n",
       "      <td>28.570469</td>\n",
       "      <td>400.000000</td>\n",
       "      <td>2.000000</td>\n",
       "      <td>3.200000</td>\n",
       "      <td>31.000000</td>\n",
       "    </tr>\n",
       "    <tr>\n",
       "      <th>75%</th>\n",
       "      <td>1.835229e+07</td>\n",
       "      <td>1.000000</td>\n",
       "      <td>77.282006</td>\n",
       "      <td>28.642758</td>\n",
       "      <td>700.000000</td>\n",
       "      <td>2.000000</td>\n",
       "      <td>3.700000</td>\n",
       "      <td>131.000000</td>\n",
       "    </tr>\n",
       "    <tr>\n",
       "      <th>max</th>\n",
       "      <td>1.850065e+07</td>\n",
       "      <td>216.000000</td>\n",
       "      <td>174.832089</td>\n",
       "      <td>55.976980</td>\n",
       "      <td>800000.000000</td>\n",
       "      <td>4.000000</td>\n",
       "      <td>4.900000</td>\n",
       "      <td>10934.000000</td>\n",
       "    </tr>\n",
       "  </tbody>\n",
       "</table>\n",
       "</div>"
      ],
      "text/plain": [
       "       Restaurant ID  Country Code    Longitude     Latitude  \\\n",
       "count   9.551000e+03   9551.000000  9551.000000  9551.000000   \n",
       "mean    9.051128e+06     18.365616    64.126574    25.854381   \n",
       "std     8.791521e+06     56.750546    41.467058    11.007935   \n",
       "min     5.300000e+01      1.000000  -157.948486   -41.330428   \n",
       "25%     3.019625e+05      1.000000    77.081343    28.478713   \n",
       "50%     6.004089e+06      1.000000    77.191964    28.570469   \n",
       "75%     1.835229e+07      1.000000    77.282006    28.642758   \n",
       "max     1.850065e+07    216.000000   174.832089    55.976980   \n",
       "\n",
       "       Average Cost for two  Price range  Aggregate rating         Votes  \n",
       "count           9551.000000  9551.000000       9551.000000   9551.000000  \n",
       "mean            1199.210763     1.804837          2.666370    156.909748  \n",
       "std            16121.183073     0.905609          1.516378    430.169145  \n",
       "min                0.000000     1.000000          0.000000      0.000000  \n",
       "25%              250.000000     1.000000          2.500000      5.000000  \n",
       "50%              400.000000     2.000000          3.200000     31.000000  \n",
       "75%              700.000000     2.000000          3.700000    131.000000  \n",
       "max           800000.000000     4.000000          4.900000  10934.000000  "
      ]
     },
     "execution_count": 7,
     "metadata": {},
     "output_type": "execute_result"
    }
   ],
   "source": [
    "data.describe() # it only takes features which has integer or float values as it is obvious  "
   ]
  },
  {
   "cell_type": "markdown",
   "metadata": {},
   "source": [
    "**Basic Data Analayis Things to Do**\n",
    "1. Missing Values\n",
    "2. Explore about the numerical values\n",
    "3. Explore about categorical values\n",
    "4. Find relations between features"
   ]
  },
  {
   "cell_type": "code",
   "execution_count": 8,
   "metadata": {},
   "outputs": [
    {
     "data": {
      "text/plain": [
       "Restaurant ID           0\n",
       "Restaurant Name         0\n",
       "Country Code            0\n",
       "City                    0\n",
       "Address                 0\n",
       "Locality                0\n",
       "Locality Verbose        0\n",
       "Longitude               0\n",
       "Latitude                0\n",
       "Cuisines                9\n",
       "Average Cost for two    0\n",
       "Currency                0\n",
       "Has Table booking       0\n",
       "Has Online delivery     0\n",
       "Is delivering now       0\n",
       "Switch to order menu    0\n",
       "Price range             0\n",
       "Aggregate rating        0\n",
       "Rating color            0\n",
       "Rating text             0\n",
       "Votes                   0\n",
       "dtype: int64"
      ]
     },
     "execution_count": 8,
     "metadata": {},
     "output_type": "execute_result"
    }
   ],
   "source": [
    "data.isnull().sum() # it will give output as a count of null values"
   ]
  },
  {
   "cell_type": "code",
   "execution_count": 9,
   "metadata": {},
   "outputs": [
    {
     "data": {
      "text/plain": [
       "Restaurant ID           False\n",
       "Restaurant Name         False\n",
       "Country Code            False\n",
       "City                    False\n",
       "Address                 False\n",
       "Locality                False\n",
       "Locality Verbose        False\n",
       "Longitude               False\n",
       "Latitude                False\n",
       "Cuisines                 True\n",
       "Average Cost for two    False\n",
       "Currency                False\n",
       "Has Table booking       False\n",
       "Has Online delivery     False\n",
       "Is delivering now       False\n",
       "Switch to order menu    False\n",
       "Price range             False\n",
       "Aggregate rating        False\n",
       "Rating color            False\n",
       "Rating text             False\n",
       "Votes                   False\n",
       "dtype: bool"
      ]
     },
     "execution_count": 9,
     "metadata": {},
     "output_type": "execute_result"
    }
   ],
   "source": [
    "data.isnull().any() # it gives output in Boolean form\n",
    "# only one column Cuisines has missing values"
   ]
  },
  {
   "cell_type": "code",
   "execution_count": 10,
   "metadata": {},
   "outputs": [
    {
     "data": {
      "text/plain": [
       "['Cuisines']"
      ]
     },
     "execution_count": 10,
     "metadata": {},
     "output_type": "execute_result"
    }
   ],
   "source": [
    "# a bit complicated code to find missing values ( list comprehension)\n",
    "[features for features in data.columns if data[features].isnull().sum()>=1]\n",
    "# what the code says find the features that has null count of greater than 1 and give the name of that column"
   ]
  },
  {
   "cell_type": "code",
   "execution_count": 11,
   "metadata": {},
   "outputs": [
    {
     "data": {
      "text/plain": [
       "<AxesSubplot:>"
      ]
     },
     "execution_count": 11,
     "metadata": {},
     "output_type": "execute_result"
    },
    {
     "data": {
      "image/png": "[encoded data removed]",
      "text/plain": [
       "<Figure size 432x288 with 1 Axes>"
      ]
     },
     "metadata": {
      "needs_background": "light"
     },
     "output_type": "display_data"
    }
   ],
   "source": [
    "# Viewing missing values with the help  of heatmap\n",
    "sns.heatmap(data.isnull(),yticklabels=False,cbar=False,cmap='viridis')\n",
    "# the plot won't be perfect to use for dataset as it has only 9 missing values"
   ]
  },
  {
   "cell_type": "code",
   "execution_count": 12,
   "metadata": {},
   "outputs": [
    {
     "data": {
      "text/html": [
       "<div>\n",
       "<style scoped>\n",
       "    .dataframe tbody tr th:only-of-type {\n",
       "        vertical-align: middle;\n",
       "    }\n",
       "\n",
       "    .dataframe tbody tr th {\n",
       "        vertical-align: top;\n",
       "    }\n",
       "\n",
       "    .dataframe thead th {\n",
       "        text-align: right;\n",
       "    }\n",
       "</style>\n",
       "<table border=\"1\" class=\"dataframe\">\n",
       "  <thead>\n",
       "    <tr style=\"text-align: right;\">\n",
       "      <th></th>\n",
       "      <th>Country Code</th>\n",
       "      <th>Country</th>\n",
       "    </tr>\n",
       "  </thead>\n",
       "  <tbody>\n",
       "    <tr>\n",
       "      <th>0</th>\n",
       "      <td>1</td>\n",
       "      <td>India</td>\n",
       "    </tr>\n",
       "    <tr>\n",
       "      <th>1</th>\n",
       "      <td>14</td>\n",
       "      <td>Australia</td>\n",
       "    </tr>\n",
       "    <tr>\n",
       "      <th>2</th>\n",
       "      <td>30</td>\n",
       "      <td>Brazil</td>\n",
       "    </tr>\n",
       "    <tr>\n",
       "      <th>3</th>\n",
       "      <td>37</td>\n",
       "      <td>Canada</td>\n",
       "    </tr>\n",
       "    <tr>\n",
       "      <th>4</th>\n",
       "      <td>94</td>\n",
       "      <td>Indonesia</td>\n",
       "    </tr>\n",
       "  </tbody>\n",
       "</table>\n",
       "</div>"
      ],
      "text/plain": [
       "   Country Code    Country\n",
       "0             1      India\n",
       "1            14  Australia\n",
       "2            30     Brazil\n",
       "3            37     Canada\n",
       "4            94  Indonesia"
      ]
     },
     "execution_count": 12,
     "metadata": {},
     "output_type": "execute_result"
    }
   ],
   "source": [
    "country_data = pd.read_excel('Dataset\\Country-Code.xlsx') # reading country_code data\n",
    "country_data.head()"
   ]
  },
  {
   "cell_type": "code",
   "execution_count": 13,
   "metadata": {},
   "outputs": [],
   "source": [
    "final = pd.merge(data,country_data,on='Country Code',how='left')\n",
    "# similar to joins in SQL "
   ]
  },
  {
   "cell_type": "code",
   "execution_count": 14,
   "metadata": {},
   "outputs": [
    {
     "data": {
      "text/html": [
       "<div>\n",
       "<style scoped>\n",
       "    .dataframe tbody tr th:only-of-type {\n",
       "        vertical-align: middle;\n",
       "    }\n",
       "\n",
       "    .dataframe tbody tr th {\n",
       "        vertical-align: top;\n",
       "    }\n",
       "\n",
       "    .dataframe thead th {\n",
       "        text-align: right;\n",
       "    }\n",
       "</style>\n",
       "<table border=\"1\" class=\"dataframe\">\n",
       "  <thead>\n",
       "    <tr style=\"text-align: right;\">\n",
       "      <th></th>\n",
       "      <th>Restaurant ID</th>\n",
       "      <th>Restaurant Name</th>\n",
       "      <th>Country Code</th>\n",
       "      <th>City</th>\n",
       "      <th>Address</th>\n",
       "      <th>Locality</th>\n",
       "      <th>Locality Verbose</th>\n",
       "      <th>Longitude</th>\n",
       "      <th>Latitude</th>\n",
       "      <th>Cuisines</th>\n",
       "      <th>...</th>\n",
       "      <th>Has Table booking</th>\n",
       "      <th>Has Online delivery</th>\n",
       "      <th>Is delivering now</th>\n",
       "      <th>Switch to order menu</th>\n",
       "      <th>Price range</th>\n",
       "      <th>Aggregate rating</th>\n",
       "      <th>Rating color</th>\n",
       "      <th>Rating text</th>\n",
       "      <th>Votes</th>\n",
       "      <th>Country</th>\n",
       "    </tr>\n",
       "  </thead>\n",
       "  <tbody>\n",
       "    <tr>\n",
       "      <th>0</th>\n",
       "      <td>6317637</td>\n",
       "      <td>Le Petit Souffle</td>\n",
       "      <td>162</td>\n",
       "      <td>Makati City</td>\n",
       "      <td>Third Floor, Century City Mall, Kalayaan Avenu...</td>\n",
       "      <td>Century City Mall, Poblacion, Makati City</td>\n",
       "      <td>Century City Mall, Poblacion, Makati City, Mak...</td>\n",
       "      <td>121.027535</td>\n",
       "      <td>14.565443</td>\n",
       "      <td>French, Japanese, Desserts</td>\n",
       "      <td>...</td>\n",
       "      <td>Yes</td>\n",
       "      <td>No</td>\n",
       "      <td>No</td>\n",
       "      <td>No</td>\n",
       "      <td>3</td>\n",
       "      <td>4.8</td>\n",
       "      <td>Dark Green</td>\n",
       "      <td>Excellent</td>\n",
       "      <td>314</td>\n",
       "      <td>Phillipines</td>\n",
       "    </tr>\n",
       "    <tr>\n",
       "      <th>1</th>\n",
       "      <td>6304287</td>\n",
       "      <td>Izakaya Kikufuji</td>\n",
       "      <td>162</td>\n",
       "      <td>Makati City</td>\n",
       "      <td>Little Tokyo, 2277 Chino Roces Avenue, Legaspi...</td>\n",
       "      <td>Little Tokyo, Legaspi Village, Makati City</td>\n",
       "      <td>Little Tokyo, Legaspi Village, Makati City, Ma...</td>\n",
       "      <td>121.014101</td>\n",
       "      <td>14.553708</td>\n",
       "      <td>Japanese</td>\n",
       "      <td>...</td>\n",
       "      <td>Yes</td>\n",
       "      <td>No</td>\n",
       "      <td>No</td>\n",
       "      <td>No</td>\n",
       "      <td>3</td>\n",
       "      <td>4.5</td>\n",
       "      <td>Dark Green</td>\n",
       "      <td>Excellent</td>\n",
       "      <td>591</td>\n",
       "      <td>Phillipines</td>\n",
       "    </tr>\n",
       "    <tr>\n",
       "      <th>2</th>\n",
       "      <td>6300002</td>\n",
       "      <td>Heat - Edsa Shangri-La</td>\n",
       "      <td>162</td>\n",
       "      <td>Mandaluyong City</td>\n",
       "      <td>Edsa Shangri-La, 1 Garden Way, Ortigas, Mandal...</td>\n",
       "      <td>Edsa Shangri-La, Ortigas, Mandaluyong City</td>\n",
       "      <td>Edsa Shangri-La, Ortigas, Mandaluyong City, Ma...</td>\n",
       "      <td>121.056831</td>\n",
       "      <td>14.581404</td>\n",
       "      <td>Seafood, Asian, Filipino, Indian</td>\n",
       "      <td>...</td>\n",
       "      <td>Yes</td>\n",
       "      <td>No</td>\n",
       "      <td>No</td>\n",
       "      <td>No</td>\n",
       "      <td>4</td>\n",
       "      <td>4.4</td>\n",
       "      <td>Green</td>\n",
       "      <td>Very Good</td>\n",
       "      <td>270</td>\n",
       "      <td>Phillipines</td>\n",
       "    </tr>\n",
       "    <tr>\n",
       "      <th>3</th>\n",
       "      <td>6318506</td>\n",
       "      <td>Ooma</td>\n",
       "      <td>162</td>\n",
       "      <td>Mandaluyong City</td>\n",
       "      <td>Third Floor, Mega Fashion Hall, SM Megamall, O...</td>\n",
       "      <td>SM Megamall, Ortigas, Mandaluyong City</td>\n",
       "      <td>SM Megamall, Ortigas, Mandaluyong City, Mandal...</td>\n",
       "      <td>121.056475</td>\n",
       "      <td>14.585318</td>\n",
       "      <td>Japanese, Sushi</td>\n",
       "      <td>...</td>\n",
       "      <td>No</td>\n",
       "      <td>No</td>\n",
       "      <td>No</td>\n",
       "      <td>No</td>\n",
       "      <td>4</td>\n",
       "      <td>4.9</td>\n",
       "      <td>Dark Green</td>\n",
       "      <td>Excellent</td>\n",
       "      <td>365</td>\n",
       "      <td>Phillipines</td>\n",
       "    </tr>\n",
       "    <tr>\n",
       "      <th>4</th>\n",
       "      <td>6314302</td>\n",
       "      <td>Sambo Kojin</td>\n",
       "      <td>162</td>\n",
       "      <td>Mandaluyong City</td>\n",
       "      <td>Third Floor, Mega Atrium, SM Megamall, Ortigas...</td>\n",
       "      <td>SM Megamall, Ortigas, Mandaluyong City</td>\n",
       "      <td>SM Megamall, Ortigas, Mandaluyong City, Mandal...</td>\n",
       "      <td>121.057508</td>\n",
       "      <td>14.584450</td>\n",
       "      <td>Japanese, Korean</td>\n",
       "      <td>...</td>\n",
       "      <td>Yes</td>\n",
       "      <td>No</td>\n",
       "      <td>No</td>\n",
       "      <td>No</td>\n",
       "      <td>4</td>\n",
       "      <td>4.8</td>\n",
       "      <td>Dark Green</td>\n",
       "      <td>Excellent</td>\n",
       "      <td>229</td>\n",
       "      <td>Phillipines</td>\n",
       "    </tr>\n",
       "  </tbody>\n",
       "</table>\n",
       "<p>5 rows × 22 columns</p>\n",
       "</div>"
      ],
      "text/plain": [
       "   Restaurant ID         Restaurant Name  Country Code              City  \\\n",
       "0        6317637        Le Petit Souffle           162       Makati City   \n",
       "1        6304287        Izakaya Kikufuji           162       Makati City   \n",
       "2        6300002  Heat - Edsa Shangri-La           162  Mandaluyong City   \n",
       "3        6318506                    Ooma           162  Mandaluyong City   \n",
       "4        6314302             Sambo Kojin           162  Mandaluyong City   \n",
       "\n",
       "                                             Address  \\\n",
       "0  Third Floor, Century City Mall, Kalayaan Avenu...   \n",
       "1  Little Tokyo, 2277 Chino Roces Avenue, Legaspi...   \n",
       "2  Edsa Shangri-La, 1 Garden Way, Ortigas, Mandal...   \n",
       "3  Third Floor, Mega Fashion Hall, SM Megamall, O...   \n",
       "4  Third Floor, Mega Atrium, SM Megamall, Ortigas...   \n",
       "\n",
       "                                     Locality  \\\n",
       "0   Century City Mall, Poblacion, Makati City   \n",
       "1  Little Tokyo, Legaspi Village, Makati City   \n",
       "2  Edsa Shangri-La, Ortigas, Mandaluyong City   \n",
       "3      SM Megamall, Ortigas, Mandaluyong City   \n",
       "4      SM Megamall, Ortigas, Mandaluyong City   \n",
       "\n",
       "                                    Locality Verbose   Longitude   Latitude  \\\n",
       "0  Century City Mall, Poblacion, Makati City, Mak...  121.027535  14.565443   \n",
       "1  Little Tokyo, Legaspi Village, Makati City, Ma...  121.014101  14.553708   \n",
       "2  Edsa Shangri-La, Ortigas, Mandaluyong City, Ma...  121.056831  14.581404   \n",
       "3  SM Megamall, Ortigas, Mandaluyong City, Mandal...  121.056475  14.585318   \n",
       "4  SM Megamall, Ortigas, Mandaluyong City, Mandal...  121.057508  14.584450   \n",
       "\n",
       "                           Cuisines  ...  Has Table booking  \\\n",
       "0        French, Japanese, Desserts  ...                Yes   \n",
       "1                          Japanese  ...                Yes   \n",
       "2  Seafood, Asian, Filipino, Indian  ...                Yes   \n",
       "3                   Japanese, Sushi  ...                 No   \n",
       "4                  Japanese, Korean  ...                Yes   \n",
       "\n",
       "  Has Online delivery Is delivering now Switch to order menu Price range  \\\n",
       "0                  No                No                   No           3   \n",
       "1                  No                No                   No           3   \n",
       "2                  No                No                   No           4   \n",
       "3                  No                No                   No           4   \n",
       "4                  No                No                   No           4   \n",
       "\n",
       "  Aggregate rating  Rating color  Rating text Votes      Country  \n",
       "0              4.8    Dark Green    Excellent   314  Phillipines  \n",
       "1              4.5    Dark Green    Excellent   591  Phillipines  \n",
       "2              4.4         Green    Very Good   270  Phillipines  \n",
       "3              4.9    Dark Green    Excellent   365  Phillipines  \n",
       "4              4.8    Dark Green    Excellent   229  Phillipines  \n",
       "\n",
       "[5 rows x 22 columns]"
      ]
     },
     "execution_count": 14,
     "metadata": {},
     "output_type": "execute_result"
    }
   ],
   "source": [
    "final.head()"
   ]
  },
  {
   "cell_type": "code",
   "execution_count": 15,
   "metadata": {},
   "outputs": [
    {
     "data": {
      "text/plain": [
       "Restaurant ID             int64\n",
       "Restaurant Name          object\n",
       "Country Code              int64\n",
       "City                     object\n",
       "Address                  object\n",
       "Locality                 object\n",
       "Locality Verbose         object\n",
       "Longitude               float64\n",
       "Latitude                float64\n",
       "Cuisines                 object\n",
       "Average Cost for two      int64\n",
       "Currency                 object\n",
       "Has Table booking        object\n",
       "Has Online delivery      object\n",
       "Is delivering now        object\n",
       "Switch to order menu     object\n",
       "Price range               int64\n",
       "Aggregate rating        float64\n",
       "Rating color             object\n",
       "Rating text              object\n",
       "Votes                     int64\n",
       "Country                  object\n",
       "dtype: object"
      ]
     },
     "execution_count": 15,
     "metadata": {},
     "output_type": "execute_result"
    }
   ],
   "source": [
    "# checking Data types\n",
    "final.dtypes"
   ]
  },
  {
   "cell_type": "code",
   "execution_count": 16,
   "metadata": {},
   "outputs": [
    {
     "data": {
      "text/plain": [
       "India             8652\n",
       "United States      434\n",
       "United Kingdom      80\n",
       "Brazil              60\n",
       "UAE                 60\n",
       "South Africa        60\n",
       "New Zealand         40\n",
       "Turkey              34\n",
       "Australia           24\n",
       "Phillipines         22\n",
       "Indonesia           21\n",
       "Singapore           20\n",
       "Qatar               20\n",
       "Sri Lanka           20\n",
       "Canada               4\n",
       "Name: Country, dtype: int64"
      ]
     },
     "execution_count": 16,
     "metadata": {},
     "output_type": "execute_result"
    }
   ],
   "source": [
    "final.Country.value_counts() # finding values based on country"
   ]
  },
  {
   "cell_type": "code",
   "execution_count": 17,
   "metadata": {},
   "outputs": [
    {
     "data": {
      "text/plain": [
       "Index(['India', 'United States', 'United Kingdom', 'Brazil', 'UAE',\n",
       "       'South Africa', 'New Zealand', 'Turkey', 'Australia', 'Phillipines',\n",
       "       'Indonesia', 'Singapore', 'Qatar', 'Sri Lanka', 'Canada'],\n",
       "      dtype='object')"
      ]
     },
     "execution_count": 17,
     "metadata": {},
     "output_type": "execute_result"
    }
   ],
   "source": [
    "final.Country.value_counts().index # it will give the name not the values"
   ]
  },
  {
   "cell_type": "code",
   "execution_count": 18,
   "metadata": {},
   "outputs": [
    {
     "data": {
      "text/plain": [
       "array([8652,  434,   80,   60,   60,   60,   40,   34,   24,   22,   21,\n",
       "         20,   20,   20,    4], dtype=int64)"
      ]
     },
     "execution_count": 18,
     "metadata": {},
     "output_type": "execute_result"
    }
   ],
   "source": [
    "final.Country.value_counts().values # it will show the values without having a label of country"
   ]
  },
  {
   "cell_type": "code",
   "execution_count": 19,
   "metadata": {},
   "outputs": [
    {
     "data": {
      "text/plain": [
       "([<matplotlib.patches.Wedge at 0x1cf09979820>,\n",
       "  <matplotlib.patches.Wedge at 0x1cf09979d60>,\n",
       "  <matplotlib.patches.Wedge at 0x1cf0998b280>,\n",
       "  <matplotlib.patches.Wedge at 0x1cf0998b760>,\n",
       "  <matplotlib.patches.Wedge at 0x1cf0998bc40>,\n",
       "  <matplotlib.patches.Wedge at 0x1cf09998160>,\n",
       "  <matplotlib.patches.Wedge at 0x1cf09998670>,\n",
       "  <matplotlib.patches.Wedge at 0x1cf09998b50>,\n",
       "  <matplotlib.patches.Wedge at 0x1cf09998fd0>,\n",
       "  <matplotlib.patches.Wedge at 0x1cf099a4550>,\n",
       "  <matplotlib.patches.Wedge at 0x1cf099568e0>,\n",
       "  <matplotlib.patches.Wedge at 0x1cf0990ef40>,\n",
       "  <matplotlib.patches.Wedge at 0x1cf099a4ac0>,\n",
       "  <matplotlib.patches.Wedge at 0x1cf099a4fa0>,\n",
       "  <matplotlib.patches.Wedge at 0x1cf099b54c0>],\n",
       " [Text(-1.052256163793291, 0.3205572737577906, 'India'),\n",
       "  Text(0.9911329812843455, -0.477132490415823, 'United States'),\n",
       "  Text(1.0572858296119743, -0.3035567072257165, 'United Kingdom'),\n",
       "  Text(1.070138816916019, -0.2545641619112621, 'Brazil'),\n",
       "  Text(1.0793506814479759, -0.21213699926648824, 'UAE'),\n",
       "  Text(1.086881147244973, -0.16937937230799818, 'South Africa'),\n",
       "  Text(1.0918635911832035, -0.1335436192729486, 'New Zealand'),\n",
       "  Text(1.0947903814016446, -0.10692998078388304, 'Turkey'),\n",
       "  Text(1.096631023945382, -0.08602556201794338, 'Australia'),\n",
       "  Text(1.0978070729776455, -0.06942355882735218, 'Phillipines'),\n",
       "  Text(1.0986791544015209, -0.05388984768543213, 'Indonesia'),\n",
       "  Text(1.0993059848742366, -0.039068550263413035, 'Singapore'),\n",
       "  Text(1.0997248508282123, -0.02460187941736628, 'Qatar'),\n",
       "  Text(1.0999533462179636, -0.010130949802716446, 'Sri Lanka'),\n",
       "  Text(1.0999990477553414, -0.0014473898376707638, 'Canada')])"
      ]
     },
     "execution_count": 19,
     "metadata": {},
     "output_type": "execute_result"
    },
    {
     "data": {
      "image/png": "[encoded data removed]",
      "text/plain": [
       "<Figure size 432x288 with 1 Axes>"
      ]
     },
     "metadata": {},
     "output_type": "display_data"
    }
   ],
   "source": [
    "# plotting pie chart\n",
    "plt.pie(final.Country.value_counts().values,labels=final.Country.value_counts().index)\n",
    "# the chart is correct but nit properly interpretable"
   ]
  },
  {
   "cell_type": "code",
   "execution_count": 20,
   "metadata": {},
   "outputs": [
    {
     "data": {
      "text/plain": [
       "([<matplotlib.patches.Wedge at 0x1cf09a052b0>,\n",
       "  <matplotlib.patches.Wedge at 0x1cf09a057f0>,\n",
       "  <matplotlib.patches.Wedge at 0x1cf09a05cd0>],\n",
       " [Text(-1.0829742700952103, 0.19278674827836725, 'India'),\n",
       "  Text(1.077281715838356, -0.22240527134123297, 'United States'),\n",
       "  Text(1.0995865153823035, -0.03015783794312073, 'United Kingdom')])"
      ]
     },
     "execution_count": 20,
     "metadata": {},
     "output_type": "execute_result"
    },
    {
     "data": {
      "image/png": "[encoded data removed]",
      "text/plain": [
       "<Figure size 432x288 with 1 Axes>"
      ]
     },
     "metadata": {},
     "output_type": "display_data"
    }
   ],
   "source": [
    "# lets find top 3  countries\n",
    "plt.pie(final.Country.value_counts().values[:3],labels=final.Country.value_counts().index[:3])"
   ]
  },
  {
   "cell_type": "code",
   "execution_count": 21,
   "metadata": {},
   "outputs": [
    {
     "data": {
      "text/plain": [
       "([<matplotlib.patches.Wedge at 0x1cf09a4ea30>,\n",
       "  <matplotlib.patches.Wedge at 0x1cf09a4efd0>,\n",
       "  <matplotlib.patches.Wedge at 0x1cf09a5d730>],\n",
       " [Text(-1.0829742700952103, 0.19278674827836725, 'India'),\n",
       "  Text(1.077281715838356, -0.22240527134123297, 'United States'),\n",
       "  Text(1.0995865153823035, -0.03015783794312073, 'United Kingdom')],\n",
       " [Text(-0.590713238233751, 0.10515640815183668, '94.39%'),\n",
       "  Text(0.5876082086391032, -0.12131196618612707, '4.73%'),\n",
       "  Text(0.5997744629358018, -0.01644972978715676, '0.87%')])"
      ]
     },
     "execution_count": 21,
     "metadata": {},
     "output_type": "execute_result"
    },
    {
     "data": {
      "image/png": "[encoded data removed]",
      "text/plain": [
       "<Figure size 432x288 with 1 Axes>"
      ]
     },
     "metadata": {},
     "output_type": "display_data"
    }
   ],
   "source": [
    "# now lets show percentage in pie chart\n",
    "plt.pie(final.Country.value_counts().values[:3],labels=final.Country.value_counts().index[:3],autopct='%1.2f%%')"
   ]
  },
  {
   "cell_type": "markdown",
   "metadata": {},
   "source": [
    "**Observations**\n",
    "1. Maximum customer base of Zomata is from India followed by USA and UK"
   ]
  },
  {
   "cell_type": "code",
   "execution_count": 22,
   "metadata": {},
   "outputs": [
    {
     "data": {
      "text/plain": [
       "Aggregate rating  Rating color  Rating text\n",
       "0.0               White         Not rated      2148\n",
       "1.8               Red           Poor              1\n",
       "1.9               Red           Poor              2\n",
       "2.0               Red           Poor              7\n",
       "2.1               Red           Poor             15\n",
       "2.2               Red           Poor             27\n",
       "2.3               Red           Poor             47\n",
       "2.4               Red           Poor             87\n",
       "2.5               Orange        Average         110\n",
       "2.6               Orange        Average         191\n",
       "2.7               Orange        Average         250\n",
       "2.8               Orange        Average         315\n",
       "2.9               Orange        Average         381\n",
       "3.0               Orange        Average         468\n",
       "3.1               Orange        Average         519\n",
       "3.2               Orange        Average         522\n",
       "3.3               Orange        Average         483\n",
       "3.4               Orange        Average         498\n",
       "3.5               Yellow        Good            480\n",
       "3.6               Yellow        Good            458\n",
       "3.7               Yellow        Good            427\n",
       "3.8               Yellow        Good            400\n",
       "3.9               Yellow        Good            335\n",
       "4.0               Green         Very Good       266\n",
       "4.1               Green         Very Good       274\n",
       "4.2               Green         Very Good       221\n",
       "4.3               Green         Very Good       174\n",
       "4.4               Green         Very Good       144\n",
       "4.5               Dark Green    Excellent        95\n",
       "4.6               Dark Green    Excellent        78\n",
       "4.7               Dark Green    Excellent        42\n",
       "4.8               Dark Green    Excellent        25\n",
       "4.9               Dark Green    Excellent        61\n",
       "dtype: int64"
      ]
     },
     "execution_count": 22,
     "metadata": {},
     "output_type": "execute_result"
    }
   ],
   "source": [
    "final.groupby(['Aggregate rating','Rating color','Rating text']).size()"
   ]
  },
  {
   "cell_type": "code",
   "execution_count": 23,
   "metadata": {},
   "outputs": [],
   "source": [
    "# creating a dataframe of groupby columns\n",
    "ratings = final.groupby(['Aggregate rating','Rating color','Rating text']).size().reset_index().rename(columns={0:'Rating Count'})\n",
    "# this code says that where the columns name is 0 change it to Rating count\n",
    "# reset_index() takes the current index, and places it in column 'index'. Then it recreates a new 'linear' index for the data-set"
   ]
  },
  {
   "cell_type": "markdown",
   "metadata": {},
   "source": [
    "**Observation**\n",
    "1. when rating is in range of 4.5 to 4.9 --> labeled as Excellent\n",
    "2. 4.0 to 4.4 --> Very good\n",
    "3. 3.5 to 3.9 --> Good\n",
    "4. 2.5 to 3.4 --> Average\n",
    "5. 1.5 to 2.4 --> Poor\n",
    "6. 0.0 -> Not rated"
   ]
  },
  {
   "cell_type": "code",
   "execution_count": 24,
   "metadata": {},
   "outputs": [
    {
     "data": {
      "text/plain": [
       "<AxesSubplot:xlabel='Aggregate rating', ylabel='Rating Count'>"
      ]
     },
     "execution_count": 24,
     "metadata": {},
     "output_type": "execute_result"
    },
    {
     "data": {
      "image/png": "[encoded data removed]",
      "text/plain": [
       "<Figure size 864x432 with 1 Axes>"
      ]
     },
     "metadata": {
      "needs_background": "light"
     },
     "output_type": "display_data"
    }
   ],
   "source": [
    "import matplotlib\n",
    "matplotlib.rcParams['figure.figsize']=(12,6) # increasing the size of figure preferred to write during importing libraries\n",
    "sns.barplot(x=\"Aggregate rating\", y='Rating Count',data=ratings,hue='Rating color')\n",
    "# the problem with the graph is that the plot is correct but the colors are not mapped properly"
   ]
  },
  {
   "cell_type": "code",
   "execution_count": 25,
   "metadata": {},
   "outputs": [
    {
     "data": {
      "text/plain": [
       "<AxesSubplot:xlabel='Aggregate rating', ylabel='Rating Count'>"
      ]
     },
     "execution_count": 25,
     "metadata": {},
     "output_type": "execute_result"
    },
    {
     "data": {
      "image/png": "[encoded data removed]",
      "text/plain": [
       "<Figure size 864x432 with 1 Axes>"
      ]
     },
     "metadata": {
      "needs_background": "light"
     },
     "output_type": "display_data"
    }
   ],
   "source": [
    "# Mapping the colors\n",
    "sns.barplot(x=\"Aggregate rating\", y='Rating Count',data=ratings,palette=['Purple','red','orange','yellow','green','green'],hue='Rating color')\n",
    "# here the dark green color will not be showed as it is not in RGB so we have written grren twice and for better viewing converted white into Purple"
   ]
  },
  {
   "cell_type": "code",
   "execution_count": 44,
   "metadata": {},
   "outputs": [
    {
     "name": "stdout",
     "output_type": "stream",
     "text": [
      "Not rated is 2148, averag-> 3737, poor-> 186, good-> 2100,  very good-> 1079, excellent-> 301\n"
     ]
    }
   ],
   "source": [
    "# Self exercise\n",
    "not_rated =ratings.loc[(ratings['Rating text']=='Not rated','Rating Count')].sum()\n",
    "average= ratings.loc[(ratings['Rating text']=='Average','Rating Count')].sum()\n",
    "poor = ratings.loc[(ratings['Rating text']=='Poor','Rating Count')].sum()\n",
    "good = ratings.loc[(ratings['Rating text']=='Good','Rating Count')].sum()\n",
    "very_good= ratings.loc[(ratings['Rating text']=='Very Good','Rating Count')].sum()\n",
    "excellent = ratings.loc[(ratings['Rating text']=='Excellent','Rating Count')].sum()\n",
    "print('Not rated is {0}, averag-> {1}, poor-> {2}, good-> {3},  very good-> {4}, excellent-> {5}'.format(not_rated,average,poor,good,very_good,excellent))"
   ]
  },
  {
   "cell_type": "code",
   "execution_count": 53,
   "metadata": {},
   "outputs": [
    {
     "name": "stdout",
     "output_type": "stream",
     "text": [
      "[2148, 3737, 186, 1079, 301]\n"
     ]
    }
   ],
   "source": [
    "columns = ['not_rated','average','poor','good','very_good','excellent']\n",
    "values=[]\n",
    "values.append(not_rated)\n",
    "values.append(average)\n",
    "values.append(poor)\n",
    "values.append(very_good)\n",
    "values.append(excellent)\n",
    "print(values)"
   ]
  },
  {
   "cell_type": "code",
   "execution_count": 55,
   "metadata": {},
   "outputs": [
    {
     "name": "stdout",
     "output_type": "stream",
     "text": [
      "[22.489791644853945, 39.12679300596796, 1.947440058632604, 11.297246361637525, 3.151502460475343]\n"
     ]
    }
   ],
   "source": [
    "percentage=[]\n",
    "for i in range(len(values)):\n",
    "    percentage.append((values[i]/9551)*100)\n",
    "print(percentage)   "
   ]
  },
  {
   "cell_type": "markdown",
   "metadata": {},
   "source": [
    "**Observations**\n",
    "1. Average rating is the most rated followed by not  rated\n",
    "2. if any user has not rated then we can fill missing values by average"
   ]
  },
  {
   "cell_type": "code",
   "execution_count": 62,
   "metadata": {},
   "outputs": [
    {
     "data": {
      "text/plain": [
       "<AxesSubplot:xlabel='Rating color', ylabel='count'>"
      ]
     },
     "execution_count": 62,
     "metadata": {},
     "output_type": "execute_result"
    },
    {
     "data": {
      "image/png": "[encoded data removed]",
      "text/plain": [
       "<Figure size 864x432 with 1 Axes>"
      ]
     },
     "metadata": {
      "needs_background": "light"
     },
     "output_type": "display_data"
    }
   ],
   "source": [
    "#count plot\n",
    "sns.countplot(x=\"Rating color\",data=ratings, palette=['Purple','red','orange','yellow','green','green'])\n",
    "# it is the frequency not the rating count"
   ]
  },
  {
   "cell_type": "code",
   "execution_count": 72,
   "metadata": {},
   "outputs": [
    {
     "data": {
      "text/html": [
       "<div>\n",
       "<style scoped>\n",
       "    .dataframe tbody tr th:only-of-type {\n",
       "        vertical-align: middle;\n",
       "    }\n",
       "\n",
       "    .dataframe tbody tr th {\n",
       "        vertical-align: top;\n",
       "    }\n",
       "\n",
       "    .dataframe thead th {\n",
       "        text-align: right;\n",
       "    }\n",
       "</style>\n",
       "<table border=\"1\" class=\"dataframe\">\n",
       "  <thead>\n",
       "    <tr style=\"text-align: right;\">\n",
       "      <th></th>\n",
       "      <th>Restaurant ID</th>\n",
       "      <th>Restaurant Name</th>\n",
       "      <th>Country Code</th>\n",
       "      <th>City</th>\n",
       "      <th>Address</th>\n",
       "      <th>Locality</th>\n",
       "      <th>Locality Verbose</th>\n",
       "      <th>Longitude</th>\n",
       "      <th>Latitude</th>\n",
       "      <th>Cuisines</th>\n",
       "      <th>...</th>\n",
       "      <th>Has Table booking</th>\n",
       "      <th>Has Online delivery</th>\n",
       "      <th>Is delivering now</th>\n",
       "      <th>Switch to order menu</th>\n",
       "      <th>Price range</th>\n",
       "      <th>Aggregate rating</th>\n",
       "      <th>Rating color</th>\n",
       "      <th>Rating text</th>\n",
       "      <th>Votes</th>\n",
       "      <th>Country</th>\n",
       "    </tr>\n",
       "  </thead>\n",
       "  <tbody>\n",
       "    <tr>\n",
       "      <th>0</th>\n",
       "      <td>6317637</td>\n",
       "      <td>Le Petit Souffle</td>\n",
       "      <td>162</td>\n",
       "      <td>Makati City</td>\n",
       "      <td>Third Floor, Century City Mall, Kalayaan Avenu...</td>\n",
       "      <td>Century City Mall, Poblacion, Makati City</td>\n",
       "      <td>Century City Mall, Poblacion, Makati City, Mak...</td>\n",
       "      <td>121.027535</td>\n",
       "      <td>14.565443</td>\n",
       "      <td>French, Japanese, Desserts</td>\n",
       "      <td>...</td>\n",
       "      <td>Yes</td>\n",
       "      <td>No</td>\n",
       "      <td>No</td>\n",
       "      <td>No</td>\n",
       "      <td>3</td>\n",
       "      <td>4.8</td>\n",
       "      <td>Dark Green</td>\n",
       "      <td>Excellent</td>\n",
       "      <td>314</td>\n",
       "      <td>Phillipines</td>\n",
       "    </tr>\n",
       "    <tr>\n",
       "      <th>1</th>\n",
       "      <td>6304287</td>\n",
       "      <td>Izakaya Kikufuji</td>\n",
       "      <td>162</td>\n",
       "      <td>Makati City</td>\n",
       "      <td>Little Tokyo, 2277 Chino Roces Avenue, Legaspi...</td>\n",
       "      <td>Little Tokyo, Legaspi Village, Makati City</td>\n",
       "      <td>Little Tokyo, Legaspi Village, Makati City, Ma...</td>\n",
       "      <td>121.014101</td>\n",
       "      <td>14.553708</td>\n",
       "      <td>Japanese</td>\n",
       "      <td>...</td>\n",
       "      <td>Yes</td>\n",
       "      <td>No</td>\n",
       "      <td>No</td>\n",
       "      <td>No</td>\n",
       "      <td>3</td>\n",
       "      <td>4.5</td>\n",
       "      <td>Dark Green</td>\n",
       "      <td>Excellent</td>\n",
       "      <td>591</td>\n",
       "      <td>Phillipines</td>\n",
       "    </tr>\n",
       "    <tr>\n",
       "      <th>2</th>\n",
       "      <td>6300002</td>\n",
       "      <td>Heat - Edsa Shangri-La</td>\n",
       "      <td>162</td>\n",
       "      <td>Mandaluyong City</td>\n",
       "      <td>Edsa Shangri-La, 1 Garden Way, Ortigas, Mandal...</td>\n",
       "      <td>Edsa Shangri-La, Ortigas, Mandaluyong City</td>\n",
       "      <td>Edsa Shangri-La, Ortigas, Mandaluyong City, Ma...</td>\n",
       "      <td>121.056831</td>\n",
       "      <td>14.581404</td>\n",
       "      <td>Seafood, Asian, Filipino, Indian</td>\n",
       "      <td>...</td>\n",
       "      <td>Yes</td>\n",
       "      <td>No</td>\n",
       "      <td>No</td>\n",
       "      <td>No</td>\n",
       "      <td>4</td>\n",
       "      <td>4.4</td>\n",
       "      <td>Green</td>\n",
       "      <td>Very Good</td>\n",
       "      <td>270</td>\n",
       "      <td>Phillipines</td>\n",
       "    </tr>\n",
       "    <tr>\n",
       "      <th>3</th>\n",
       "      <td>6318506</td>\n",
       "      <td>Ooma</td>\n",
       "      <td>162</td>\n",
       "      <td>Mandaluyong City</td>\n",
       "      <td>Third Floor, Mega Fashion Hall, SM Megamall, O...</td>\n",
       "      <td>SM Megamall, Ortigas, Mandaluyong City</td>\n",
       "      <td>SM Megamall, Ortigas, Mandaluyong City, Mandal...</td>\n",
       "      <td>121.056475</td>\n",
       "      <td>14.585318</td>\n",
       "      <td>Japanese, Sushi</td>\n",
       "      <td>...</td>\n",
       "      <td>No</td>\n",
       "      <td>No</td>\n",
       "      <td>No</td>\n",
       "      <td>No</td>\n",
       "      <td>4</td>\n",
       "      <td>4.9</td>\n",
       "      <td>Dark Green</td>\n",
       "      <td>Excellent</td>\n",
       "      <td>365</td>\n",
       "      <td>Phillipines</td>\n",
       "    </tr>\n",
       "    <tr>\n",
       "      <th>4</th>\n",
       "      <td>6314302</td>\n",
       "      <td>Sambo Kojin</td>\n",
       "      <td>162</td>\n",
       "      <td>Mandaluyong City</td>\n",
       "      <td>Third Floor, Mega Atrium, SM Megamall, Ortigas...</td>\n",
       "      <td>SM Megamall, Ortigas, Mandaluyong City</td>\n",
       "      <td>SM Megamall, Ortigas, Mandaluyong City, Mandal...</td>\n",
       "      <td>121.057508</td>\n",
       "      <td>14.584450</td>\n",
       "      <td>Japanese, Korean</td>\n",
       "      <td>...</td>\n",
       "      <td>Yes</td>\n",
       "      <td>No</td>\n",
       "      <td>No</td>\n",
       "      <td>No</td>\n",
       "      <td>4</td>\n",
       "      <td>4.8</td>\n",
       "      <td>Dark Green</td>\n",
       "      <td>Excellent</td>\n",
       "      <td>229</td>\n",
       "      <td>Phillipines</td>\n",
       "    </tr>\n",
       "  </tbody>\n",
       "</table>\n",
       "<p>5 rows × 22 columns</p>\n",
       "</div>"
      ],
      "text/plain": [
       "   Restaurant ID         Restaurant Name  Country Code              City  \\\n",
       "0        6317637        Le Petit Souffle           162       Makati City   \n",
       "1        6304287        Izakaya Kikufuji           162       Makati City   \n",
       "2        6300002  Heat - Edsa Shangri-La           162  Mandaluyong City   \n",
       "3        6318506                    Ooma           162  Mandaluyong City   \n",
       "4        6314302             Sambo Kojin           162  Mandaluyong City   \n",
       "\n",
       "                                             Address  \\\n",
       "0  Third Floor, Century City Mall, Kalayaan Avenu...   \n",
       "1  Little Tokyo, 2277 Chino Roces Avenue, Legaspi...   \n",
       "2  Edsa Shangri-La, 1 Garden Way, Ortigas, Mandal...   \n",
       "3  Third Floor, Mega Fashion Hall, SM Megamall, O...   \n",
       "4  Third Floor, Mega Atrium, SM Megamall, Ortigas...   \n",
       "\n",
       "                                     Locality  \\\n",
       "0   Century City Mall, Poblacion, Makati City   \n",
       "1  Little Tokyo, Legaspi Village, Makati City   \n",
       "2  Edsa Shangri-La, Ortigas, Mandaluyong City   \n",
       "3      SM Megamall, Ortigas, Mandaluyong City   \n",
       "4      SM Megamall, Ortigas, Mandaluyong City   \n",
       "\n",
       "                                    Locality Verbose   Longitude   Latitude  \\\n",
       "0  Century City Mall, Poblacion, Makati City, Mak...  121.027535  14.565443   \n",
       "1  Little Tokyo, Legaspi Village, Makati City, Ma...  121.014101  14.553708   \n",
       "2  Edsa Shangri-La, Ortigas, Mandaluyong City, Ma...  121.056831  14.581404   \n",
       "3  SM Megamall, Ortigas, Mandaluyong City, Mandal...  121.056475  14.585318   \n",
       "4  SM Megamall, Ortigas, Mandaluyong City, Mandal...  121.057508  14.584450   \n",
       "\n",
       "                           Cuisines  ...  Has Table booking  \\\n",
       "0        French, Japanese, Desserts  ...                Yes   \n",
       "1                          Japanese  ...                Yes   \n",
       "2  Seafood, Asian, Filipino, Indian  ...                Yes   \n",
       "3                   Japanese, Sushi  ...                 No   \n",
       "4                  Japanese, Korean  ...                Yes   \n",
       "\n",
       "  Has Online delivery Is delivering now Switch to order menu Price range  \\\n",
       "0                  No                No                   No           3   \n",
       "1                  No                No                   No           3   \n",
       "2                  No                No                   No           4   \n",
       "3                  No                No                   No           4   \n",
       "4                  No                No                   No           4   \n",
       "\n",
       "  Aggregate rating  Rating color  Rating text Votes      Country  \n",
       "0              4.8    Dark Green    Excellent   314  Phillipines  \n",
       "1              4.5    Dark Green    Excellent   591  Phillipines  \n",
       "2              4.4         Green    Very Good   270  Phillipines  \n",
       "3              4.9    Dark Green    Excellent   365  Phillipines  \n",
       "4              4.8    Dark Green    Excellent   229  Phillipines  \n",
       "\n",
       "[5 rows x 22 columns]"
      ]
     },
     "execution_count": 72,
     "metadata": {},
     "output_type": "execute_result"
    }
   ],
   "source": [
    "final.head()"
   ]
  },
  {
   "cell_type": "code",
   "execution_count": 70,
   "metadata": {},
   "outputs": [
    {
     "data": {
      "text/plain": [
       "India             2139\n",
       "Brazil               5\n",
       "United States        3\n",
       "United Kingdom       1\n",
       "Name: Country, dtype: int64"
      ]
     },
     "execution_count": 70,
     "metadata": {},
     "output_type": "execute_result"
    }
   ],
   "source": [
    "## find the country name with 0 rating\n",
    "final.loc[final['Rating text']== \"Not rated\",'Country'].value_counts()\n",
    "# here loc is is label based data selecting method i.e need to pass column name whereas iloc is integer bases i.e need to pass index(integer positioned)"
   ]
  },
  {
   "cell_type": "code",
   "execution_count": 71,
   "metadata": {},
   "outputs": [
    {
     "data": {
      "text/html": [
       "<div>\n",
       "<style scoped>\n",
       "    .dataframe tbody tr th:only-of-type {\n",
       "        vertical-align: middle;\n",
       "    }\n",
       "\n",
       "    .dataframe tbody tr th {\n",
       "        vertical-align: top;\n",
       "    }\n",
       "\n",
       "    .dataframe thead th {\n",
       "        text-align: right;\n",
       "    }\n",
       "</style>\n",
       "<table border=\"1\" class=\"dataframe\">\n",
       "  <thead>\n",
       "    <tr style=\"text-align: right;\">\n",
       "      <th></th>\n",
       "      <th>Country</th>\n",
       "      <th>0</th>\n",
       "    </tr>\n",
       "  </thead>\n",
       "  <tbody>\n",
       "    <tr>\n",
       "      <th>0</th>\n",
       "      <td>Brazil</td>\n",
       "      <td>5</td>\n",
       "    </tr>\n",
       "    <tr>\n",
       "      <th>1</th>\n",
       "      <td>India</td>\n",
       "      <td>2139</td>\n",
       "    </tr>\n",
       "    <tr>\n",
       "      <th>2</th>\n",
       "      <td>United Kingdom</td>\n",
       "      <td>1</td>\n",
       "    </tr>\n",
       "    <tr>\n",
       "      <th>3</th>\n",
       "      <td>United States</td>\n",
       "      <td>3</td>\n",
       "    </tr>\n",
       "  </tbody>\n",
       "</table>\n",
       "</div>"
      ],
      "text/plain": [
       "          Country     0\n",
       "0          Brazil     5\n",
       "1           India  2139\n",
       "2  United Kingdom     1\n",
       "3   United States     3"
      ]
     },
     "execution_count": 71,
     "metadata": {},
     "output_type": "execute_result"
    }
   ],
   "source": [
    "# alternative way\n",
    "final[final['Rating color']=='White'].groupby('Country').size().reset_index()\n",
    "# when can also use Rating text and Aggreagte rating in condition"
   ]
  },
  {
   "cell_type": "code",
   "execution_count": 74,
   "metadata": {},
   "outputs": [
    {
     "data": {
      "text/plain": [
       "Index(['Restaurant ID', 'Restaurant Name', 'Country Code', 'City', 'Address',\n",
       "       'Locality', 'Locality Verbose', 'Longitude', 'Latitude', 'Cuisines',\n",
       "       'Average Cost for two', 'Currency', 'Has Table booking',\n",
       "       'Has Online delivery', 'Is delivering now', 'Switch to order menu',\n",
       "       'Price range', 'Aggregate rating', 'Rating color', 'Rating text',\n",
       "       'Votes', 'Country'],\n",
       "      dtype='object')"
      ]
     },
     "execution_count": 74,
     "metadata": {},
     "output_type": "execute_result"
    }
   ],
   "source": [
    "## which currency is used by which country\n",
    "final.columns"
   ]
  },
  {
   "cell_type": "code",
   "execution_count": 86,
   "metadata": {},
   "outputs": [
    {
     "data": {
      "text/plain": [
       "Country         Currency              \n",
       "Australia       Dollar($)                   24\n",
       "Brazil          Brazilian Real(R$)          60\n",
       "Canada          Dollar($)                    4\n",
       "India           Indian Rupees(Rs.)        8652\n",
       "Indonesia       Indonesian Rupiah(IDR)      21\n",
       "New Zealand     NewZealand($)               40\n",
       "Phillipines     Botswana Pula(P)            22\n",
       "Qatar           Qatari Rial(QR)             20\n",
       "Singapore       Dollar($)                   20\n",
       "South Africa    Rand(R)                     60\n",
       "Sri Lanka       Sri Lankan Rupee(LKR)       20\n",
       "Turkey          Turkish Lira(TL)            34\n",
       "UAE             Emirati Diram(AED)          60\n",
       "United Kingdom  Pounds(£)                  80\n",
       "United States   Dollar($)                  434\n",
       "dtype: int64"
      ]
     },
     "execution_count": 86,
     "metadata": {},
     "output_type": "execute_result"
    }
   ],
   "source": [
    "final[['Country','Currency']].groupby(['Country','Currency']).size()"
   ]
  },
  {
   "cell_type": "code",
   "execution_count": 95,
   "metadata": {},
   "outputs": [
    {
     "data": {
      "text/plain": [
       "India    2423\n",
       "UAE        28\n",
       "Name: Country, dtype: int64"
      ]
     },
     "execution_count": 95,
     "metadata": {},
     "output_type": "execute_result"
    }
   ],
   "source": [
    "# which countries has online delievers\n",
    "final.loc[final['Has Online delivery']=='Yes','Country'].value_counts()\n",
    "# my solution"
   ]
  },
  {
   "cell_type": "code",
   "execution_count": 101,
   "metadata": {},
   "outputs": [
    {
     "data": {
      "text/html": [
       "<div>\n",
       "<style scoped>\n",
       "    .dataframe tbody tr th:only-of-type {\n",
       "        vertical-align: middle;\n",
       "    }\n",
       "\n",
       "    .dataframe tbody tr th {\n",
       "        vertical-align: top;\n",
       "    }\n",
       "\n",
       "    .dataframe thead th {\n",
       "        text-align: right;\n",
       "    }\n",
       "</style>\n",
       "<table border=\"1\" class=\"dataframe\">\n",
       "  <thead>\n",
       "    <tr style=\"text-align: right;\">\n",
       "      <th></th>\n",
       "      <th>Has Online delivery</th>\n",
       "      <th>Country</th>\n",
       "      <th>0</th>\n",
       "    </tr>\n",
       "  </thead>\n",
       "  <tbody>\n",
       "    <tr>\n",
       "      <th>0</th>\n",
       "      <td>No</td>\n",
       "      <td>Australia</td>\n",
       "      <td>24</td>\n",
       "    </tr>\n",
       "    <tr>\n",
       "      <th>1</th>\n",
       "      <td>No</td>\n",
       "      <td>Brazil</td>\n",
       "      <td>60</td>\n",
       "    </tr>\n",
       "    <tr>\n",
       "      <th>2</th>\n",
       "      <td>No</td>\n",
       "      <td>Canada</td>\n",
       "      <td>4</td>\n",
       "    </tr>\n",
       "    <tr>\n",
       "      <th>3</th>\n",
       "      <td>No</td>\n",
       "      <td>India</td>\n",
       "      <td>6229</td>\n",
       "    </tr>\n",
       "    <tr>\n",
       "      <th>4</th>\n",
       "      <td>No</td>\n",
       "      <td>Indonesia</td>\n",
       "      <td>21</td>\n",
       "    </tr>\n",
       "    <tr>\n",
       "      <th>5</th>\n",
       "      <td>No</td>\n",
       "      <td>New Zealand</td>\n",
       "      <td>40</td>\n",
       "    </tr>\n",
       "    <tr>\n",
       "      <th>6</th>\n",
       "      <td>No</td>\n",
       "      <td>Phillipines</td>\n",
       "      <td>22</td>\n",
       "    </tr>\n",
       "    <tr>\n",
       "      <th>7</th>\n",
       "      <td>No</td>\n",
       "      <td>Qatar</td>\n",
       "      <td>20</td>\n",
       "    </tr>\n",
       "    <tr>\n",
       "      <th>8</th>\n",
       "      <td>No</td>\n",
       "      <td>Singapore</td>\n",
       "      <td>20</td>\n",
       "    </tr>\n",
       "    <tr>\n",
       "      <th>9</th>\n",
       "      <td>No</td>\n",
       "      <td>South Africa</td>\n",
       "      <td>60</td>\n",
       "    </tr>\n",
       "    <tr>\n",
       "      <th>10</th>\n",
       "      <td>No</td>\n",
       "      <td>Sri Lanka</td>\n",
       "      <td>20</td>\n",
       "    </tr>\n",
       "    <tr>\n",
       "      <th>11</th>\n",
       "      <td>No</td>\n",
       "      <td>Turkey</td>\n",
       "      <td>34</td>\n",
       "    </tr>\n",
       "    <tr>\n",
       "      <th>12</th>\n",
       "      <td>No</td>\n",
       "      <td>UAE</td>\n",
       "      <td>32</td>\n",
       "    </tr>\n",
       "    <tr>\n",
       "      <th>13</th>\n",
       "      <td>No</td>\n",
       "      <td>United Kingdom</td>\n",
       "      <td>80</td>\n",
       "    </tr>\n",
       "    <tr>\n",
       "      <th>14</th>\n",
       "      <td>No</td>\n",
       "      <td>United States</td>\n",
       "      <td>434</td>\n",
       "    </tr>\n",
       "    <tr>\n",
       "      <th>15</th>\n",
       "      <td>Yes</td>\n",
       "      <td>India</td>\n",
       "      <td>2423</td>\n",
       "    </tr>\n",
       "    <tr>\n",
       "      <th>16</th>\n",
       "      <td>Yes</td>\n",
       "      <td>UAE</td>\n",
       "      <td>28</td>\n",
       "    </tr>\n",
       "  </tbody>\n",
       "</table>\n",
       "</div>"
      ],
      "text/plain": [
       "   Has Online delivery         Country     0\n",
       "0                   No       Australia    24\n",
       "1                   No          Brazil    60\n",
       "2                   No          Canada     4\n",
       "3                   No           India  6229\n",
       "4                   No       Indonesia    21\n",
       "5                   No     New Zealand    40\n",
       "6                   No     Phillipines    22\n",
       "7                   No           Qatar    20\n",
       "8                   No       Singapore    20\n",
       "9                   No    South Africa    60\n",
       "10                  No       Sri Lanka    20\n",
       "11                  No          Turkey    34\n",
       "12                  No             UAE    32\n",
       "13                  No  United Kingdom    80\n",
       "14                  No   United States   434\n",
       "15                 Yes           India  2423\n",
       "16                 Yes             UAE    28"
      ]
     },
     "execution_count": 101,
     "metadata": {},
     "output_type": "execute_result"
    }
   ],
   "source": [
    "final[['Has Online delivery','Country']].groupby(['Has Online delivery','Country',]).size().reset_index()\n",
    "# solution from video"
   ]
  },
  {
   "cell_type": "markdown",
   "metadata": {},
   "source": [
    "**Observation**\n",
    "1. Online delivery are available in India and UAE only"
   ]
  },
  {
   "cell_type": "code",
   "execution_count": 108,
   "metadata": {},
   "outputs": [
    {
     "data": {
      "text/plain": [
       "Index(['New Delhi', 'Gurgaon', 'Noida', 'Faridabad', 'Ghaziabad',\n",
       "       'Bhubaneshwar', 'Amritsar', 'Ahmedabad', 'Lucknow', 'Guwahati',\n",
       "       ...\n",
       "       'Ojo Caliente', 'Montville', 'Monroe', 'Miller', 'Middleton Beach',\n",
       "       'Panchkula', 'Mc Millan', 'Mayfield', 'Macedon', 'Vineland Station'],\n",
       "      dtype='object', length=141)"
      ]
     },
     "execution_count": 108,
     "metadata": {},
     "output_type": "execute_result"
    }
   ],
   "source": [
    "final.City.value_counts().index\n"
   ]
  },
  {
   "cell_type": "code",
   "execution_count": 113,
   "metadata": {},
   "outputs": [
    {
     "data": {
      "text/plain": [
       "([<matplotlib.patches.Wedge at 0x1cf0c4a2850>,\n",
       "  <matplotlib.patches.Wedge at 0x1cf0c4a2dc0>,\n",
       "  <matplotlib.patches.Wedge at 0x1cf0c4b9220>,\n",
       "  <matplotlib.patches.Wedge at 0x1cf0c4b9700>,\n",
       "  <matplotlib.patches.Wedge at 0x1cf0c4b9be0>,\n",
       "  <matplotlib.patches.Wedge at 0x1cf0c304100>,\n",
       "  <matplotlib.patches.Wedge at 0x1cf0c3045e0>,\n",
       "  <matplotlib.patches.Wedge at 0x1cf0c304ac0>,\n",
       "  <matplotlib.patches.Wedge at 0x1cf0c304fa0>,\n",
       "  <matplotlib.patches.Wedge at 0x1cf0c3104c0>,\n",
       "  <matplotlib.patches.Wedge at 0x1cf0c2f66a0>,\n",
       "  <matplotlib.patches.Wedge at 0x1cf0c310e50>,\n",
       "  <matplotlib.patches.Wedge at 0x1cf0c31e370>,\n",
       "  <matplotlib.patches.Wedge at 0x1cf0c31e850>,\n",
       "  <matplotlib.patches.Wedge at 0x1cf0c31ed30>,\n",
       "  <matplotlib.patches.Wedge at 0x1cf0c32b250>,\n",
       "  <matplotlib.patches.Wedge at 0x1cf0c32b730>,\n",
       "  <matplotlib.patches.Wedge at 0x1cf0c32bc10>,\n",
       "  <matplotlib.patches.Wedge at 0x1cf0c336130>,\n",
       "  <matplotlib.patches.Wedge at 0x1cf0c336610>,\n",
       "  <matplotlib.patches.Wedge at 0x1cf0c336af0>,\n",
       "  <matplotlib.patches.Wedge at 0x1cf0c336fd0>,\n",
       "  <matplotlib.patches.Wedge at 0x1cf0c3434f0>,\n",
       "  <matplotlib.patches.Wedge at 0x1cf0c3439d0>,\n",
       "  <matplotlib.patches.Wedge at 0x1cf0c343eb0>,\n",
       "  <matplotlib.patches.Wedge at 0x1cf0c34e3d0>,\n",
       "  <matplotlib.patches.Wedge at 0x1cf0c34e8b0>,\n",
       "  <matplotlib.patches.Wedge at 0x1cf0c34ed90>,\n",
       "  <matplotlib.patches.Wedge at 0x1cf0c35c2b0>,\n",
       "  <matplotlib.patches.Wedge at 0x1cf0c35c790>,\n",
       "  <matplotlib.patches.Wedge at 0x1cf0c35cc70>,\n",
       "  <matplotlib.patches.Wedge at 0x1cf0c36b190>,\n",
       "  <matplotlib.patches.Wedge at 0x1cf0c36b670>,\n",
       "  <matplotlib.patches.Wedge at 0x1cf0c36bb50>,\n",
       "  <matplotlib.patches.Wedge at 0x1cf0c36bfd0>,\n",
       "  <matplotlib.patches.Wedge at 0x1cf0c376550>,\n",
       "  <matplotlib.patches.Wedge at 0x1cf0c376a30>,\n",
       "  <matplotlib.patches.Wedge at 0x1cf0c376f10>,\n",
       "  <matplotlib.patches.Wedge at 0x1cf0c384430>,\n",
       "  <matplotlib.patches.Wedge at 0x1cf0c384910>,\n",
       "  <matplotlib.patches.Wedge at 0x1cf0c384df0>,\n",
       "  <matplotlib.patches.Wedge at 0x1cf0c392310>,\n",
       "  <matplotlib.patches.Wedge at 0x1cf0c3927f0>,\n",
       "  <matplotlib.patches.Wedge at 0x1cf0c392cd0>,\n",
       "  <matplotlib.patches.Wedge at 0x1cf0c39f1f0>,\n",
       "  <matplotlib.patches.Wedge at 0x1cf0c39f6d0>,\n",
       "  <matplotlib.patches.Wedge at 0x1cf0c39fbb0>,\n",
       "  <matplotlib.patches.Wedge at 0x1cf0c3ad0d0>,\n",
       "  <matplotlib.patches.Wedge at 0x1cf0c3ad5b0>,\n",
       "  <matplotlib.patches.Wedge at 0x1cf0c3ada90>,\n",
       "  <matplotlib.patches.Wedge at 0x1cf0c3adf70>,\n",
       "  <matplotlib.patches.Wedge at 0x1cf0c3b9490>,\n",
       "  <matplotlib.patches.Wedge at 0x1cf0c3b9970>,\n",
       "  <matplotlib.patches.Wedge at 0x1cf0c3b9e50>,\n",
       "  <matplotlib.patches.Wedge at 0x1cf0c3c7370>,\n",
       "  <matplotlib.patches.Wedge at 0x1cf0c3c7850>,\n",
       "  <matplotlib.patches.Wedge at 0x1cf0c3c7d30>,\n",
       "  <matplotlib.patches.Wedge at 0x1cf0c3d6250>,\n",
       "  <matplotlib.patches.Wedge at 0x1cf0c3d6730>,\n",
       "  <matplotlib.patches.Wedge at 0x1cf0c3d6c10>,\n",
       "  <matplotlib.patches.Wedge at 0x1cf0c3e1130>,\n",
       "  <matplotlib.patches.Wedge at 0x1cf0c3e1610>,\n",
       "  <matplotlib.patches.Wedge at 0x1cf0c3e1af0>,\n",
       "  <matplotlib.patches.Wedge at 0x1cf0c3e1fd0>,\n",
       "  <matplotlib.patches.Wedge at 0x1cf0c3f14f0>,\n",
       "  <matplotlib.patches.Wedge at 0x1cf0c3f19d0>,\n",
       "  <matplotlib.patches.Wedge at 0x1cf0c3f1eb0>,\n",
       "  <matplotlib.patches.Wedge at 0x1cf0c3fb3d0>,\n",
       "  <matplotlib.patches.Wedge at 0x1cf0c3fb8b0>,\n",
       "  <matplotlib.patches.Wedge at 0x1cf0c3fbd90>,\n",
       "  <matplotlib.patches.Wedge at 0x1cf0c4082b0>,\n",
       "  <matplotlib.patches.Wedge at 0x1cf0c408790>,\n",
       "  <matplotlib.patches.Wedge at 0x1cf0c408c70>,\n",
       "  <matplotlib.patches.Wedge at 0x1cf0c417190>,\n",
       "  <matplotlib.patches.Wedge at 0x1cf0c417670>,\n",
       "  <matplotlib.patches.Wedge at 0x1cf0c417b50>,\n",
       "  <matplotlib.patches.Wedge at 0x1cf0c417fd0>,\n",
       "  <matplotlib.patches.Wedge at 0x1cf0c424550>,\n",
       "  <matplotlib.patches.Wedge at 0x1cf0c424a30>,\n",
       "  <matplotlib.patches.Wedge at 0x1cf0c424f10>,\n",
       "  <matplotlib.patches.Wedge at 0x1cf0c430430>,\n",
       "  <matplotlib.patches.Wedge at 0x1cf0c430910>,\n",
       "  <matplotlib.patches.Wedge at 0x1cf0c430df0>,\n",
       "  <matplotlib.patches.Wedge at 0x1cf0c43e310>,\n",
       "  <matplotlib.patches.Wedge at 0x1cf0c43e7f0>,\n",
       "  <matplotlib.patches.Wedge at 0x1cf0c43ecd0>,\n",
       "  <matplotlib.patches.Wedge at 0x1cf0c44a1f0>,\n",
       "  <matplotlib.patches.Wedge at 0x1cf0c44a6d0>,\n",
       "  <matplotlib.patches.Wedge at 0x1cf0c44abb0>,\n",
       "  <matplotlib.patches.Wedge at 0x1cf0c45a0d0>,\n",
       "  <matplotlib.patches.Wedge at 0x1cf0c45a5b0>,\n",
       "  <matplotlib.patches.Wedge at 0x1cf0c45aa90>,\n",
       "  <matplotlib.patches.Wedge at 0x1cf0c45af70>,\n",
       "  <matplotlib.patches.Wedge at 0x1cf0c467490>,\n",
       "  <matplotlib.patches.Wedge at 0x1cf0c467970>,\n",
       "  <matplotlib.patches.Wedge at 0x1cf0c467e50>,\n",
       "  <matplotlib.patches.Wedge at 0x1cf0c472370>,\n",
       "  <matplotlib.patches.Wedge at 0x1cf0c472850>,\n",
       "  <matplotlib.patches.Wedge at 0x1cf0c472d30>,\n",
       "  <matplotlib.patches.Wedge at 0x1cf0c4c2250>,\n",
       "  <matplotlib.patches.Wedge at 0x1cf0c4c2730>,\n",
       "  <matplotlib.patches.Wedge at 0x1cf0c4c2c10>,\n",
       "  <matplotlib.patches.Wedge at 0x1cf0c4ce130>,\n",
       "  <matplotlib.patches.Wedge at 0x1cf0c4ce610>,\n",
       "  <matplotlib.patches.Wedge at 0x1cf0c4ceaf0>,\n",
       "  <matplotlib.patches.Wedge at 0x1cf0c4cefd0>,\n",
       "  <matplotlib.patches.Wedge at 0x1cf0c4dc4f0>,\n",
       "  <matplotlib.patches.Wedge at 0x1cf0c4dc9d0>,\n",
       "  <matplotlib.patches.Wedge at 0x1cf0c4dceb0>,\n",
       "  <matplotlib.patches.Wedge at 0x1cf0c4e73d0>,\n",
       "  <matplotlib.patches.Wedge at 0x1cf0c4e78b0>,\n",
       "  <matplotlib.patches.Wedge at 0x1cf0c4e7d90>,\n",
       "  <matplotlib.patches.Wedge at 0x1cf0c4f52b0>,\n",
       "  <matplotlib.patches.Wedge at 0x1cf0c4f5790>,\n",
       "  <matplotlib.patches.Wedge at 0x1cf0c4f5c70>,\n",
       "  <matplotlib.patches.Wedge at 0x1cf0c504190>,\n",
       "  <matplotlib.patches.Wedge at 0x1cf0c504670>,\n",
       "  <matplotlib.patches.Wedge at 0x1cf0c504b50>,\n",
       "  <matplotlib.patches.Wedge at 0x1cf0c504fd0>,\n",
       "  <matplotlib.patches.Wedge at 0x1cf0c510550>,\n",
       "  <matplotlib.patches.Wedge at 0x1cf0c510a30>,\n",
       "  <matplotlib.patches.Wedge at 0x1cf0c510f10>,\n",
       "  <matplotlib.patches.Wedge at 0x1cf0c51d430>,\n",
       "  <matplotlib.patches.Wedge at 0x1cf0c51d910>,\n",
       "  <matplotlib.patches.Wedge at 0x1cf0c51ddf0>,\n",
       "  <matplotlib.patches.Wedge at 0x1cf0c52a310>,\n",
       "  <matplotlib.patches.Wedge at 0x1cf0c52a7f0>,\n",
       "  <matplotlib.patches.Wedge at 0x1cf0c52acd0>,\n",
       "  <matplotlib.patches.Wedge at 0x1cf0c5381f0>,\n",
       "  <matplotlib.patches.Wedge at 0x1cf0c5386d0>,\n",
       "  <matplotlib.patches.Wedge at 0x1cf0c538bb0>,\n",
       "  <matplotlib.patches.Wedge at 0x1cf0c5460d0>,\n",
       "  <matplotlib.patches.Wedge at 0x1cf0c5465b0>,\n",
       "  <matplotlib.patches.Wedge at 0x1cf0c546a90>,\n",
       "  <matplotlib.patches.Wedge at 0x1cf0c546f70>,\n",
       "  <matplotlib.patches.Wedge at 0x1cf0c553490>,\n",
       "  <matplotlib.patches.Wedge at 0x1cf0c553970>,\n",
       "  <matplotlib.patches.Wedge at 0x1cf0c553e50>,\n",
       "  <matplotlib.patches.Wedge at 0x1cf0c55f370>,\n",
       "  <matplotlib.patches.Wedge at 0x1cf0c55f850>,\n",
       "  <matplotlib.patches.Wedge at 0x1cf0c55fd30>],\n",
       " [Text(-0.2501618674207579, 1.0711764747643402, 'New Delhi'),\n",
       "  Text(-0.745121915719338, -0.8091930120278745, 'Gurgaon'),\n",
       "  Text(-0.023335860702208486, -1.0997524437823665, 'Noida'),\n",
       "  Text(0.4451062250173843, -1.0059226851258372, 'Faridabad'),\n",
       "  Text(0.5344697170236794, -0.9614271275477035, 'Ghaziabad'),\n",
       "  Text(0.5489550432957175, -0.9532304865247423, 'Bhubaneshwar'),\n",
       "  Text(0.5620711022307091, -0.9455559613461045, 'Amritsar'),\n",
       "  Text(0.5750798895062447, -0.9377009761568373, 'Ahmedabad'),\n",
       "  Text(0.5879789223862543, -0.9296670300863097, 'Lucknow'),\n",
       "  Text(0.6007657390813725, -0.9214556564186973, 'Guwahati'),\n",
       "  Text(0.6131375319471077, -0.9132701500201403, 'Ludhiana'),\n",
       "  Text(0.625100125752387, -0.9051242084843107, 'Rest of Hawaii'),\n",
       "  Text(0.6369545100691332, -0.8968215832051494, 'Kochi'),\n",
       "  Text(0.6486986328151094, -0.888363711428944, 'Kolkata'),\n",
       "  Text(0.6603304609951781, -0.8797520572763077, 'Pocatello'),\n",
       "  Text(0.6718479810532302, -0.8709881114887267, 'Pensacola'),\n",
       "  Text(0.6832491992207405, -0.8620733911705064, 'Mumbai'),\n",
       "  Text(0.6945321418619113, -0.853009439526144, 'Mangalore'),\n",
       "  Text(0.7056948558153163, -0.8437978255931927, 'Singapore'),\n",
       "  Text(0.7167354087320118, -0.8344401439706484, 'Orlando'),\n",
       "  Text(0.7276518894100411, -0.8249380145429095, 'Mysore'),\n",
       "  Text(0.7384424081252736, -0.8152930821993689, 'Nagpur'),\n",
       "  Text(0.749105096958536, -0.8055070165496653, 'Nashik'),\n",
       "  Text(0.7596381101189571, -0.7955815116346655, 'Coimbatore'),\n",
       "  Text(0.7700396242634912, -0.7855182856332128, 'Dehradun'),\n",
       "  Text(0.7803078388125538, -0.7753190805646936, 'Savannah'),\n",
       "  Text(0.7904409762617105, -0.7649856619874872, 'Tampa Bay'),\n",
       "  Text(0.8004372824893825, -0.7545198186933281, 'Sioux City'),\n",
       "  Text(0.810295027060492, -0.7439233623976578, 'Abu Dhabi'),\n",
       "  Text(0.8200125035260163, -0.7331981274260015, 'Bangalore'),\n",
       "  Text(0.8295880297183893, -0.7223459703964306, 'Aurangabad'),\n",
       "  Text(0.8390199480426914, -0.7113687698981728, 'Allahabad'),\n",
       "  Text(0.8483066257635978, -0.7002684261664089, 'Agra'),\n",
       "  Text(0.857446455288012, -0.6890468607533333, 'Sharjah'),\n",
       "  Text(0.8664378544433541, -0.6777060161955162, 'Dubai'),\n",
       "  Text(0.8752792667514493, -0.666247855677634, 'Goa'),\n",
       "  Text(0.8839691616979604, -0.6546743626926333, 'Bhopal'),\n",
       "  Text(0.8925060349973365, -0.6429875406983664, 'Chennai'),\n",
       "  Text(0.9008884088532129, -0.6311894127707836, 'Waterloo'),\n",
       "  Text(0.9091148322142286, -0.6192820212537218, 'Indore'),\n",
       "  Text(0.9171838810252173, -0.6072674274053569, 'Valdosta'),\n",
       "  Text(0.925094158473717, -0.5951477110413896, 'Puducherry'),\n",
       "  Text(0.9328442952317741, -0.5829249701750087, 'Kanpur'),\n",
       "  Text(0.9404329496929795, -0.5706013206537136, 'Jaipur'),\n",
       "  Text(0.9478588082047126, -0.5581788957930441, 'Patna'),\n",
       "  Text(0.9551205852955462, -0.5456598460072843, 'Macon'),\n",
       "  Text(0.9622170238977674, -0.5330463384372164, 'Edinburgh'),\n",
       "  Text(0.9691468955649892, -0.5203405565749647, 'London'),\n",
       "  Text(0.9759090006848006, -0.5075446998860239, 'Manchester'),\n",
       "  Text(0.9825021686864295, -0.4946609834285123, 'Pune'),\n",
       "  Text(0.9889252582433793, -0.4816916374697259, 'Cedar Rapids/Iowa City'),\n",
       "  Text(0.9951771574709969, -0.4686389071000686, 'Boise'),\n",
       "  Text(1.0012567841189528, -0.4555050518444039, 'Cape Town'),\n",
       "  Text(1.0071630857585825, -0.4422923452709196, 'Augusta'),\n",
       "  Text(1.0128950399650722, -0.4290030745975545, 'Athens'),\n",
       "  Text(1.0184516544944486, -0.4156395402960603, 'Albany'),\n",
       "  Text(1.023831967455341, -0.40220405569378004, 'Sí£o Paulo'),\n",
       "  Text(1.0290350474754957, -0.3886989465731858, 'Rio de Janeiro'),\n",
       "  Text(1.0340599938629995, -0.37512655076927554, 'Brasí_lia'),\n",
       "  Text(1.038905936762198, -0.3614892177648731, 'Pretoria'),\n",
       "  Text(1.0435720373042763, -0.3477893082839128, 'Colombo'),\n",
       "  Text(1.0480574877524684, -0.334029193882787, 'Ankara'),\n",
       "  Text(1.052361511641888, -0.32021125653980437, 'Columbus'),\n",
       "  Text(1.056483363913936, -0.30633788824285857, 'Doha'),\n",
       "  Text(1.0604223310452774, -0.2924114905753542, 'Dalton'),\n",
       "  Text(1.0641777311713583, -0.27843447430047213, 'Varanasi'),\n",
       "  Text(1.0677489142044403, -0.26440925894385514, 'Des Moines'),\n",
       "  Text(1.071135261946137, -0.2503382723747622, 'Birmingham'),\n",
       "  Text(1.0743361881944267, -0.23622395038579308, 'Dubuque'),\n",
       "  Text(1.07735113884513, -0.2220687362712315, 'Ranchi'),\n",
       "  Text(1.0801795919878292, -0.20787508040408997, 'Wellington City'),\n",
       "  Text(1.0828210579962145, -0.19364543981193752, 'Auckland'),\n",
       "  Text(1.0852750796128416, -0.17938227775156726, 'Surat'),\n",
       "  Text(1.0875412320282876, -0.16508806328258516, 'Gainesville'),\n",
       "  Text(1.0896191229546865, -0.15076527084000446, 'Davenport'),\n",
       "  Text(1.0915083926936402, -0.1364163798058945, 'Vadodara'),\n",
       "  Text(1.0932087141984825, -0.12204387408018827, 'Vizag'),\n",
       "  Text(1.0946487378584324, -0.10837038666047613, 'Hyderabad'),\n",
       "  Text(1.0958552219281623, -0.0954009044652007, 'Chandigarh'),\n",
       "  Text(1.0968535914548911, -0.08313963502750614, 'Jakarta'),\n",
       "  Text(1.0976205848484757, -0.07231218235463886, 'ÛÁstanbul'),\n",
       "  Text(1.0981781050169444, -0.06328388152913558, 'Sandton'),\n",
       "  Text(1.0985148037575858, -0.05714215541465917, 'Johannesburg'),\n",
       "  Text(1.0986968174339933, -0.05352852847234547, 'Taguig City'),\n",
       "  Text(1.0988338696837698, -0.0506372080173505, 'Mandaluyong City'),\n",
       "  Text(1.0989475488721216, -0.048107014332176026, 'Pasig City'),\n",
       "  Text(1.0990403511294076, -0.04593807341790467, 'Pasay City'),\n",
       "  Text(1.0991144163556001, -0.044130485599965186, 'Bogor'),\n",
       "  Text(1.099171528036114, -0.042684329147290576, 'Inner City'),\n",
       "  Text(1.0992267369414956, -0.041238098803800964, 'Secunderabad'),\n",
       "  Text(1.0992800429761727, -0.03979179707306476, 'Tangerang'),\n",
       "  Text(1.0993314460478671, -0.03834542645877398, 'Makati City'),\n",
       "  Text(1.0993809460675954, -0.036898989464739865, 'San Juan City'),\n",
       "  Text(1.0994285429496677, -0.03545248859488858, 'Santa Rosa'),\n",
       "  Text(1.0994742366116894, -0.03400592635325686, 'Hepburn Springs'),\n",
       "  Text(1.0995072578223395, -0.032920965903197284, 'Yorkton'),\n",
       "  Text(1.0995286771658292, -0.03219764106206654, 'Consort'),\n",
       "  Text(1.0995496206609192, -0.031474302286605305, 'Inverloch'),\n",
       "  Text(1.0995700882985457, -0.030750949889856428, 'Huskisson'),\n",
       "  Text(1.0995900800698508, -0.03002758418486867, 'Bandung'),\n",
       "  Text(1.0996095959661822, -0.029304205484696536, 'Forrest'),\n",
       "  Text(1.0996286359790945, -0.02858081410240017, 'Flaxton'),\n",
       "  Text(1.0996472001003474, -0.027857410351045192, 'Fernley'),\n",
       "  Text(1.099665288321907, -0.027133994543702578, 'East Ballina'),\n",
       "  Text(1.0996829006359445, -0.02641056699344852, 'Dicky Beach'),\n",
       "  Text(1.0997000370348387, -0.0256871280133643, 'Cochrane'),\n",
       "  Text(1.0997166975111725, -0.02496367791653614, 'Lakeview'),\n",
       "  Text(1.0997328820577363, -0.024240217016055075, 'Clatskanie'),\n",
       "  Text(1.0997485906675255, -0.02351674562501681, 'Chatham-Kent'),\n",
       "  Text(1.099763823333742, -0.0227932640565216, 'Beechworth'),\n",
       "  Text(1.0997785800497932, -0.022069772623674103, 'Balingup'),\n",
       "  Text(1.099792860809293, -0.021346271639583234, 'Armidale'),\n",
       "  Text(1.0998066656060612, -0.020622761417362058, 'Tagaytay City'),\n",
       "  Text(1.0998199944341234, -0.019899242270127623, 'Randburg'),\n",
       "  Text(1.0998328472877106, -0.01917571451100085, 'Quezon City'),\n",
       "  Text(1.0998452241612613, -0.018452178453106385, 'Lakes Entrance'),\n",
       "  Text(1.0998571250494182, -0.017728634409572463, 'Lincoln'),\n",
       "  Text(1.0998685499470318, -0.017005082693530776, 'Winchester Bay'),\n",
       "  Text(1.0998794988491571, -0.016281523618116335, 'Lorn'),\n",
       "  Text(1.0998899717510557, -0.015557957496467338, 'Weirton'),\n",
       "  Text(1.0998999686481954, -0.014834384641725037, 'Victor Harbor'),\n",
       "  Text(1.0999094895362498, -0.014110805367033586, 'Vernonia'),\n",
       "  Text(1.0999185344110984, -0.013387219985539931, 'Trentham East'),\n",
       "  Text(1.099927103268827, -0.012663628810393646, 'Tanunda'),\n",
       "  Text(1.0999351961057269, -0.01194003215474683, 'Princeton'),\n",
       "  Text(1.0999428129182958, -0.011216430331753936, 'Potrero'),\n",
       "  Text(1.0999499537032376, -0.010492823654571666, 'Phillip Island'),\n",
       "  Text(1.0999566184574614, -0.009769212436358818, 'Penola'),\n",
       "  Text(1.0999628071780836, -0.009045596990276156, 'Paynesville'),\n",
       "  Text(1.0999685198624252, -0.008321977629486272, 'Mohali'),\n",
       "  Text(1.0999737565080143, -0.007598354667153454, 'Palm Cove'),\n",
       "  Text(1.0999785171125844, -0.006874728416443548, 'Ojo Caliente'),\n",
       "  Text(1.0999828016740756, -0.006151099190523824, 'Montville'),\n",
       "  Text(1.099986610190633, -0.00542746730256284, 'Monroe'),\n",
       "  Text(1.099989942660609, -0.004703833065730304, 'Miller'),\n",
       "  Text(1.099992799082561, -0.0039801967931969405, 'Middleton Beach'),\n",
       "  Text(1.0999951794552532, -0.003256558798134357, 'Panchkula'),\n",
       "  Text(1.099997083777655, -0.0025329193937149055, 'Mc Millan'),\n",
       "  Text(1.0999985120489424, -0.0018092788931115477, 'Mayfield'),\n",
       "  Text(1.0999994642684974, -0.0010856376094977205, 'Macedon'),\n",
       "  Text(1.0999999404359078, -0.0003619958560471987, 'Vineland Station')])"
      ]
     },
     "execution_count": 113,
     "metadata": {},
     "output_type": "execute_result"
    },
    {
     "data": {
      "image/png": "[encoded data removed]",
      "text/plain": [
       "<Figure size 864x432 with 1 Axes>"
      ]
     },
     "metadata": {},
     "output_type": "display_data"
    }
   ],
   "source": [
    "# Create a ppie char for cities distribution\n",
    "plt.pie(x=final.City.value_counts(),labels=final.City.value_counts().index)"
   ]
  },
  {
   "cell_type": "code",
   "execution_count": 114,
   "metadata": {},
   "outputs": [
    {
     "data": {
      "text/plain": [
       "([<matplotlib.patches.Wedge at 0x1cf0c72bee0>,\n",
       "  <matplotlib.patches.Wedge at 0x1cf0c716370>,\n",
       "  <matplotlib.patches.Wedge at 0x1cf0c7167f0>,\n",
       "  <matplotlib.patches.Wedge at 0x1cf0c716cd0>,\n",
       "  <matplotlib.patches.Wedge at 0x1cf0c74d220>],\n",
       " [Text(-0.6145352824185932, 0.9123301960708633, 'New Delhi'),\n",
       "  Text(0.0623675251198054, -1.0982305276263407, 'Gurgaon'),\n",
       "  Text(0.8789045225625368, -0.6614581167535246, 'Noida'),\n",
       "  Text(1.0922218418223437, -0.13058119407559224, 'Faridabad'),\n",
       "  Text(1.099946280005612, -0.010871113182029924, 'Ghaziabad')])"
      ]
     },
     "execution_count": 114,
     "metadata": {},
     "output_type": "execute_result"
    },
    {
     "data": {
      "image/png": "[encoded data removed]",
      "text/plain": [
       "<Figure size 864x432 with 1 Axes>"
      ]
     },
     "metadata": {},
     "output_type": "display_data"
    }
   ],
   "source": [
    "plt.pie(x=final.City.value_counts()[:5],labels=final.City.value_counts().index[:5])"
   ]
  },
  {
   "cell_type": "code",
   "execution_count": null,
   "metadata": {},
   "outputs": [],
   "source": []
  }
 ],
 "metadata": {
  "interpreter": {
   "hash": "7b1d35e13e56d12051e5e9d734bb92b370c5d1cc437cafe7e3819a3f15c28a3f"
  },
  "kernelspec": {
   "display_name": "Python 3.9.7 ('base')",
   "language": "python",
   "name": "python3"
  },
  "language_info": {
   "codemirror_mode": {
    "name": "ipython",
    "version": 3
   },
   "file_extension": ".py",
   "mimetype": "text/x-python",
   "name": "python",
   "nbconvert_exporter": "python",
   "pygments_lexer": "ipython3",
   "version": "3.9.7"
  },
  "orig_nbformat": 4
 },
 "nbformat": 4,
 "nbformat_minor": 2
}
